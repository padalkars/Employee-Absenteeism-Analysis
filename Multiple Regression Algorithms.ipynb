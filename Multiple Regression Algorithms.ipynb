{
 "cells": [
  {
   "cell_type": "raw",
   "metadata": {},
   "source": [
    "What are the changes to be brought in, in order to reduce absenteeism? "
   ]
  },
  {
   "cell_type": "raw",
   "metadata": {},
   "source": [
    "How much losses every month can we project in 2011 if same trend of absenteeism continues?"
   ]
  },
  {
   "cell_type": "code",
   "execution_count": null,
   "metadata": {},
   "outputs": [],
   "source": []
  },
  {
   "cell_type": "code",
   "execution_count": 2,
   "metadata": {},
   "outputs": [],
   "source": [
    "import pandas as pd\n",
    "import matplotlib.pyplot as plt\n",
    "import numpy as np\n",
    "import seaborn as sbn"
   ]
  },
  {
   "cell_type": "code",
   "execution_count": 3,
   "metadata": {},
   "outputs": [],
   "source": [
    "#Liraries used to save the model and results\n",
    "import os\n",
    "import joblib"
   ]
  },
  {
   "cell_type": "code",
   "execution_count": 4,
   "metadata": {},
   "outputs": [],
   "source": [
    "#Import All the Regression Libraries\n",
    "from sklearn.ensemble import RandomForestRegressor as RFR\n",
    "from sklearn.tree import DecisionTreeRegressor as DTR\n",
    "from sklearn.svm import SVR\n",
    "from sklearn.linear_model import LinearRegression, Ridge, Lasso, HuberRegressor"
   ]
  },
  {
   "cell_type": "code",
   "execution_count": 5,
   "metadata": {},
   "outputs": [],
   "source": [
    "#Import the  necessary evaluation metrics\n",
    "from sklearn.metrics import mean_squared_error, r2_score"
   ]
  },
  {
   "cell_type": "code",
   "execution_count": 6,
   "metadata": {},
   "outputs": [
    {
     "data": {
      "text/plain": [
       "'/home/shrikrishna/Desktop/Edwisor/New Version/Project'"
      ]
     },
     "execution_count": 6,
     "metadata": {},
     "output_type": "execute_result"
    }
   ],
   "source": [
    "os.getcwd()"
   ]
  },
  {
   "cell_type": "code",
   "execution_count": 7,
   "metadata": {},
   "outputs": [],
   "source": [
    "#Cross Validation\n",
    "from sklearn.model_selection import KFold"
   ]
  },
  {
   "cell_type": "markdown",
   "metadata": {},
   "source": [
    "## Load the imputed data"
   ]
  },
  {
   "cell_type": "code",
   "execution_count": 8,
   "metadata": {},
   "outputs": [],
   "source": [
    "#Load the data free from Missing Values\n",
    "absent = pd.read_csv('absent_NA_free.csv')"
   ]
  },
  {
   "cell_type": "code",
   "execution_count": 9,
   "metadata": {},
   "outputs": [
    {
     "data": {
      "text/html": [
       "<div>\n",
       "<style scoped>\n",
       "    .dataframe tbody tr th:only-of-type {\n",
       "        vertical-align: middle;\n",
       "    }\n",
       "\n",
       "    .dataframe tbody tr th {\n",
       "        vertical-align: top;\n",
       "    }\n",
       "\n",
       "    .dataframe thead th {\n",
       "        text-align: right;\n",
       "    }\n",
       "</style>\n",
       "<table border=\"1\" class=\"dataframe\">\n",
       "  <thead>\n",
       "    <tr style=\"text-align: right;\">\n",
       "      <th></th>\n",
       "      <th>Unnamed: 0</th>\n",
       "      <th>ID</th>\n",
       "      <th>Reason for absence</th>\n",
       "      <th>Month of absence</th>\n",
       "      <th>Day of the week</th>\n",
       "      <th>Seasons</th>\n",
       "      <th>Transportation expense</th>\n",
       "      <th>Distance from Residence to Work</th>\n",
       "      <th>Service time</th>\n",
       "      <th>Age</th>\n",
       "      <th>...</th>\n",
       "      <th>Disciplinary failure</th>\n",
       "      <th>Education</th>\n",
       "      <th>Son</th>\n",
       "      <th>Social drinker</th>\n",
       "      <th>Social smoker</th>\n",
       "      <th>Pet</th>\n",
       "      <th>Weight</th>\n",
       "      <th>Height</th>\n",
       "      <th>Body mass index</th>\n",
       "      <th>Absenteeism time in hours</th>\n",
       "    </tr>\n",
       "  </thead>\n",
       "  <tbody>\n",
       "    <tr>\n",
       "      <th>0</th>\n",
       "      <td>0</td>\n",
       "      <td>11</td>\n",
       "      <td>26.0</td>\n",
       "      <td>7.0</td>\n",
       "      <td>3</td>\n",
       "      <td>1</td>\n",
       "      <td>289.0</td>\n",
       "      <td>36.0</td>\n",
       "      <td>13.0</td>\n",
       "      <td>33.0</td>\n",
       "      <td>...</td>\n",
       "      <td>0.0</td>\n",
       "      <td>1.0</td>\n",
       "      <td>2.0</td>\n",
       "      <td>1.0</td>\n",
       "      <td>0.0</td>\n",
       "      <td>1.0</td>\n",
       "      <td>90.0</td>\n",
       "      <td>172.0</td>\n",
       "      <td>30.0</td>\n",
       "      <td>4.0</td>\n",
       "    </tr>\n",
       "    <tr>\n",
       "      <th>1</th>\n",
       "      <td>1</td>\n",
       "      <td>36</td>\n",
       "      <td>0.0</td>\n",
       "      <td>7.0</td>\n",
       "      <td>3</td>\n",
       "      <td>1</td>\n",
       "      <td>118.0</td>\n",
       "      <td>13.0</td>\n",
       "      <td>18.0</td>\n",
       "      <td>50.0</td>\n",
       "      <td>...</td>\n",
       "      <td>1.0</td>\n",
       "      <td>1.0</td>\n",
       "      <td>1.0</td>\n",
       "      <td>1.0</td>\n",
       "      <td>0.0</td>\n",
       "      <td>0.0</td>\n",
       "      <td>98.0</td>\n",
       "      <td>178.0</td>\n",
       "      <td>31.0</td>\n",
       "      <td>0.0</td>\n",
       "    </tr>\n",
       "    <tr>\n",
       "      <th>2</th>\n",
       "      <td>2</td>\n",
       "      <td>3</td>\n",
       "      <td>23.0</td>\n",
       "      <td>7.0</td>\n",
       "      <td>4</td>\n",
       "      <td>1</td>\n",
       "      <td>179.0</td>\n",
       "      <td>51.0</td>\n",
       "      <td>18.0</td>\n",
       "      <td>38.0</td>\n",
       "      <td>...</td>\n",
       "      <td>0.0</td>\n",
       "      <td>1.0</td>\n",
       "      <td>0.0</td>\n",
       "      <td>1.0</td>\n",
       "      <td>0.0</td>\n",
       "      <td>0.0</td>\n",
       "      <td>89.0</td>\n",
       "      <td>170.0</td>\n",
       "      <td>31.0</td>\n",
       "      <td>2.0</td>\n",
       "    </tr>\n",
       "    <tr>\n",
       "      <th>3</th>\n",
       "      <td>3</td>\n",
       "      <td>7</td>\n",
       "      <td>7.0</td>\n",
       "      <td>7.0</td>\n",
       "      <td>5</td>\n",
       "      <td>1</td>\n",
       "      <td>279.0</td>\n",
       "      <td>5.0</td>\n",
       "      <td>14.0</td>\n",
       "      <td>39.0</td>\n",
       "      <td>...</td>\n",
       "      <td>0.0</td>\n",
       "      <td>1.0</td>\n",
       "      <td>2.0</td>\n",
       "      <td>1.0</td>\n",
       "      <td>1.0</td>\n",
       "      <td>0.0</td>\n",
       "      <td>68.0</td>\n",
       "      <td>168.0</td>\n",
       "      <td>24.0</td>\n",
       "      <td>4.0</td>\n",
       "    </tr>\n",
       "    <tr>\n",
       "      <th>4</th>\n",
       "      <td>4</td>\n",
       "      <td>11</td>\n",
       "      <td>23.0</td>\n",
       "      <td>7.0</td>\n",
       "      <td>5</td>\n",
       "      <td>1</td>\n",
       "      <td>289.0</td>\n",
       "      <td>36.0</td>\n",
       "      <td>13.0</td>\n",
       "      <td>33.0</td>\n",
       "      <td>...</td>\n",
       "      <td>0.0</td>\n",
       "      <td>1.0</td>\n",
       "      <td>2.0</td>\n",
       "      <td>1.0</td>\n",
       "      <td>0.0</td>\n",
       "      <td>1.0</td>\n",
       "      <td>90.0</td>\n",
       "      <td>172.0</td>\n",
       "      <td>30.0</td>\n",
       "      <td>2.0</td>\n",
       "    </tr>\n",
       "  </tbody>\n",
       "</table>\n",
       "<p>5 rows × 22 columns</p>\n",
       "</div>"
      ],
      "text/plain": [
       "   Unnamed: 0  ID  Reason for absence  Month of absence  Day of the week  \\\n",
       "0           0  11                26.0               7.0                3   \n",
       "1           1  36                 0.0               7.0                3   \n",
       "2           2   3                23.0               7.0                4   \n",
       "3           3   7                 7.0               7.0                5   \n",
       "4           4  11                23.0               7.0                5   \n",
       "\n",
       "   Seasons  Transportation expense  Distance from Residence to Work  \\\n",
       "0        1                   289.0                             36.0   \n",
       "1        1                   118.0                             13.0   \n",
       "2        1                   179.0                             51.0   \n",
       "3        1                   279.0                              5.0   \n",
       "4        1                   289.0                             36.0   \n",
       "\n",
       "   Service time   Age            ...              Disciplinary failure  \\\n",
       "0          13.0  33.0            ...                               0.0   \n",
       "1          18.0  50.0            ...                               1.0   \n",
       "2          18.0  38.0            ...                               0.0   \n",
       "3          14.0  39.0            ...                               0.0   \n",
       "4          13.0  33.0            ...                               0.0   \n",
       "\n",
       "   Education  Son  Social drinker  Social smoker  Pet  Weight  Height  \\\n",
       "0        1.0  2.0             1.0            0.0  1.0    90.0   172.0   \n",
       "1        1.0  1.0             1.0            0.0  0.0    98.0   178.0   \n",
       "2        1.0  0.0             1.0            0.0  0.0    89.0   170.0   \n",
       "3        1.0  2.0             1.0            1.0  0.0    68.0   168.0   \n",
       "4        1.0  2.0             1.0            0.0  1.0    90.0   172.0   \n",
       "\n",
       "   Body mass index  Absenteeism time in hours  \n",
       "0             30.0                        4.0  \n",
       "1             31.0                        0.0  \n",
       "2             31.0                        2.0  \n",
       "3             24.0                        4.0  \n",
       "4             30.0                        2.0  \n",
       "\n",
       "[5 rows x 22 columns]"
      ]
     },
     "execution_count": 9,
     "metadata": {},
     "output_type": "execute_result"
    }
   ],
   "source": [
    "absent.head()"
   ]
  },
  {
   "cell_type": "code",
   "execution_count": 14,
   "metadata": {},
   "outputs": [],
   "source": [
    "#Drop the redundant columns\n",
    "#absent = absent.drop([\"Unnamed: 0\", \"ID\"], axis=1)"
   ]
  },
  {
   "cell_type": "code",
   "execution_count": 15,
   "metadata": {},
   "outputs": [],
   "source": [
    "#Remove the trailing spaces if any from the columns names\n",
    "absent.columns = list(map(lambda x: x.strip(\" \"), absent.columns))"
   ]
  },
  {
   "cell_type": "code",
   "execution_count": 16,
   "metadata": {},
   "outputs": [
    {
     "data": {
      "text/plain": [
       "Reason for absence                 float64\n",
       "Month of absence                   float64\n",
       "Day of the week                      int64\n",
       "Seasons                              int64\n",
       "Transportation expense             float64\n",
       "Distance from Residence to Work    float64\n",
       "Service time                       float64\n",
       "Age                                float64\n",
       "Work load Average/day              float64\n",
       "Hit target                         float64\n",
       "Disciplinary failure               float64\n",
       "Education                          float64\n",
       "Son                                float64\n",
       "Social drinker                     float64\n",
       "Social smoker                      float64\n",
       "Pet                                float64\n",
       "Weight                             float64\n",
       "Height                             float64\n",
       "Body mass index                    float64\n",
       "Absenteeism time in hours          float64\n",
       "dtype: object"
      ]
     },
     "execution_count": 16,
     "metadata": {},
     "output_type": "execute_result"
    }
   ],
   "source": [
    "#Check the types of each column\n",
    "absent.dtypes"
   ]
  },
  {
   "cell_type": "code",
   "execution_count": 17,
   "metadata": {},
   "outputs": [],
   "source": [
    "#Function to convert string to an integer\n",
    "def string_to_int(query):\n",
    "    #Process only if the value is not null\n",
    "    if(type(query)==str):\n",
    "        return int(\"\".join(str(piece) for piece in query.split(',')))\n",
    "    \n",
    "    return query"
   ]
  },
  {
   "cell_type": "code",
   "execution_count": 18,
   "metadata": {},
   "outputs": [],
   "source": [
    "temp_work_load_avg_per_d = absent[\"Work load Average/day\"]"
   ]
  },
  {
   "cell_type": "code",
   "execution_count": 19,
   "metadata": {},
   "outputs": [],
   "source": [
    "absent[\"Work load Average/day\"] = list(map(string_to_int, np.array(temp_work_load_avg_per_d)))"
   ]
  },
  {
   "cell_type": "code",
   "execution_count": 20,
   "metadata": {},
   "outputs": [
    {
     "data": {
      "text/plain": [
       "[]"
      ]
     },
     "execution_count": 20,
     "metadata": {},
     "output_type": "execute_result"
    }
   ],
   "source": [
    "#Check the whether any element of type Object exists in the column\n",
    "#If no any element exists then this should return []\n",
    "[ele for ele in list(absent[\"Work load Average/day\"]) if type(ele)==str]"
   ]
  },
  {
   "cell_type": "code",
   "execution_count": 21,
   "metadata": {},
   "outputs": [],
   "source": [
    "#Assign the target column to variable target\n",
    "target = \"Absenteeism time in hours\""
   ]
  },
  {
   "cell_type": "markdown",
   "metadata": {},
   "source": [
    "### Mapping Categories to Ordinal Data"
   ]
  },
  {
   "cell_type": "code",
   "execution_count": 92,
   "metadata": {},
   "outputs": [],
   "source": [
    "social_drinker_dict = {\"yes\": 1, \"no\": 0}\n",
    "education_dict = {\"high school\":1, \"graduate\":2,\n",
    "                  \"postgraduate\":3, \"master and doctor\": 4\n",
    "                 }\n",
    "seasons_dict = {\"summer\":1, \"autumn\":2, \"winter\":3, \"spring\": 4}\n",
    "day_of_week_dict = {\"Monday\":2, \"Tuesday\":3, \"Wednesday\":4, \"Thursday\":5,\"Friday\":6}\n",
    "social_smoker_dict = {\"yes\":1, \"no\":0}\n",
    "disciplinary_failure_dict = {\"yes\":1, \"no\":0}"
   ]
  },
  {
   "cell_type": "markdown",
   "metadata": {},
   "source": [
    "## Plotting Utility"
   ]
  },
  {
   "cell_type": "code",
   "execution_count": 93,
   "metadata": {},
   "outputs": [
    {
     "name": "stdout",
     "output_type": "stream",
     "text": [
      "Help on function hist in module matplotlib.pyplot:\n",
      "\n",
      "hist(x, bins=None, range=None, density=None, weights=None, cumulative=False, bottom=None, histtype='bar', align='mid', orientation='vertical', rwidth=None, log=False, color=None, label=None, stacked=False, normed=None, hold=None, data=None, **kwargs)\n",
      "    Plot a histogram.\n",
      "    \n",
      "    Compute and draw the histogram of *x*. The return value is a\n",
      "    tuple (*n*, *bins*, *patches*) or ([*n0*, *n1*, ...], *bins*,\n",
      "    [*patches0*, *patches1*,...]) if the input contains multiple\n",
      "    data.\n",
      "    \n",
      "    Multiple data can be provided via *x* as a list of datasets\n",
      "    of potentially different length ([*x0*, *x1*, ...]), or as\n",
      "    a 2-D ndarray in which each column is a dataset.  Note that\n",
      "    the ndarray form is transposed relative to the list form.\n",
      "    \n",
      "    Masked arrays are not supported at present.\n",
      "    \n",
      "    Parameters\n",
      "    ----------\n",
      "    x : (n,) array or sequence of (n,) arrays\n",
      "        Input values, this takes either a single array or a sequence of\n",
      "        arrays which are not required to be of the same length\n",
      "    \n",
      "    bins : integer or sequence or 'auto', optional\n",
      "        If an integer is given, ``bins + 1`` bin edges are calculated and\n",
      "        returned, consistent with :func:`numpy.histogram`.\n",
      "    \n",
      "        If `bins` is a sequence, gives bin edges, including left edge of\n",
      "        first bin and right edge of last bin.  In this case, `bins` is\n",
      "        returned unmodified.\n",
      "    \n",
      "        All but the last (righthand-most) bin is half-open.  In other\n",
      "        words, if `bins` is::\n",
      "    \n",
      "            [1, 2, 3, 4]\n",
      "    \n",
      "        then the first bin is ``[1, 2)`` (including 1, but excluding 2) and\n",
      "        the second ``[2, 3)``.  The last bin, however, is ``[3, 4]``, which\n",
      "        *includes* 4.\n",
      "    \n",
      "        Unequally spaced bins are supported if *bins* is a sequence.\n",
      "    \n",
      "        If Numpy 1.11 is installed, may also be ``'auto'``.\n",
      "    \n",
      "        Default is taken from the rcParam ``hist.bins``.\n",
      "    \n",
      "    range : tuple or None, optional\n",
      "        The lower and upper range of the bins. Lower and upper outliers\n",
      "        are ignored. If not provided, *range* is ``(x.min(), x.max())``.\n",
      "        Range has no effect if *bins* is a sequence.\n",
      "    \n",
      "        If *bins* is a sequence or *range* is specified, autoscaling\n",
      "        is based on the specified bin range instead of the\n",
      "        range of x.\n",
      "    \n",
      "        Default is ``None``\n",
      "    \n",
      "    density : boolean, optional\n",
      "        If ``True``, the first element of the return tuple will\n",
      "        be the counts normalized to form a probability density, i.e.,\n",
      "        the area (or integral) under the histogram will sum to 1.\n",
      "        This is achieved by dividing the count by the number of\n",
      "        observations times the bin width and not dividing by the total\n",
      "        number of observations. If *stacked* is also ``True``, the sum of\n",
      "        the histograms is normalized to 1.\n",
      "    \n",
      "        Default is ``None`` for both *normed* and *density*. If either is\n",
      "        set, then that value will be used. If neither are set, then the\n",
      "        args will be treated as ``False``.\n",
      "    \n",
      "        If both *density* and *normed* are set an error is raised.\n",
      "    \n",
      "    weights : (n, ) array_like or None, optional\n",
      "        An array of weights, of the same shape as *x*.  Each value in *x*\n",
      "        only contributes its associated weight towards the bin count\n",
      "        (instead of 1).  If *normed* or *density* is ``True``,\n",
      "        the weights are normalized, so that the integral of the density\n",
      "        over the range remains 1.\n",
      "    \n",
      "        Default is ``None``\n",
      "    \n",
      "    cumulative : boolean, optional\n",
      "        If ``True``, then a histogram is computed where each bin gives the\n",
      "        counts in that bin plus all bins for smaller values. The last bin\n",
      "        gives the total number of datapoints. If *normed* or *density*\n",
      "        is also ``True`` then the histogram is normalized such that the\n",
      "        last bin equals 1. If *cumulative* evaluates to less than 0\n",
      "        (e.g., -1), the direction of accumulation is reversed.\n",
      "        In this case, if *normed* and/or *density* is also ``True``, then\n",
      "        the histogram is normalized such that the first bin equals 1.\n",
      "    \n",
      "        Default is ``False``\n",
      "    \n",
      "    bottom : array_like, scalar, or None\n",
      "        Location of the bottom baseline of each bin.  If a scalar,\n",
      "        the base line for each bin is shifted by the same amount.\n",
      "        If an array, each bin is shifted independently and the length\n",
      "        of bottom must match the number of bins.  If None, defaults to 0.\n",
      "    \n",
      "        Default is ``None``\n",
      "    \n",
      "    histtype : {'bar', 'barstacked', 'step',  'stepfilled'}, optional\n",
      "        The type of histogram to draw.\n",
      "    \n",
      "        - 'bar' is a traditional bar-type histogram.  If multiple data\n",
      "          are given the bars are arranged side by side.\n",
      "    \n",
      "        - 'barstacked' is a bar-type histogram where multiple\n",
      "          data are stacked on top of each other.\n",
      "    \n",
      "        - 'step' generates a lineplot that is by default\n",
      "          unfilled.\n",
      "    \n",
      "        - 'stepfilled' generates a lineplot that is by default\n",
      "          filled.\n",
      "    \n",
      "        Default is 'bar'\n",
      "    \n",
      "    align : {'left', 'mid', 'right'}, optional\n",
      "        Controls how the histogram is plotted.\n",
      "    \n",
      "            - 'left': bars are centered on the left bin edges.\n",
      "    \n",
      "            - 'mid': bars are centered between the bin edges.\n",
      "    \n",
      "            - 'right': bars are centered on the right bin edges.\n",
      "    \n",
      "        Default is 'mid'\n",
      "    \n",
      "    orientation : {'horizontal', 'vertical'}, optional\n",
      "        If 'horizontal', `~matplotlib.pyplot.barh` will be used for\n",
      "        bar-type histograms and the *bottom* kwarg will be the left edges.\n",
      "    \n",
      "    rwidth : scalar or None, optional\n",
      "        The relative width of the bars as a fraction of the bin width.  If\n",
      "        ``None``, automatically compute the width.\n",
      "    \n",
      "        Ignored if *histtype* is 'step' or 'stepfilled'.\n",
      "    \n",
      "        Default is ``None``\n",
      "    \n",
      "    log : boolean, optional\n",
      "        If ``True``, the histogram axis will be set to a log scale. If\n",
      "        *log* is ``True`` and *x* is a 1D array, empty bins will be\n",
      "        filtered out and only the non-empty ``(n, bins, patches)``\n",
      "        will be returned.\n",
      "    \n",
      "        Default is ``False``\n",
      "    \n",
      "    color : color or array_like of colors or None, optional\n",
      "        Color spec or sequence of color specs, one per dataset.  Default\n",
      "        (``None``) uses the standard line color sequence.\n",
      "    \n",
      "        Default is ``None``\n",
      "    \n",
      "    label : string or None, optional\n",
      "        String, or sequence of strings to match multiple datasets.  Bar\n",
      "        charts yield multiple patches per dataset, but only the first gets\n",
      "        the label, so that the legend command will work as expected.\n",
      "    \n",
      "        default is ``None``\n",
      "    \n",
      "    stacked : boolean, optional\n",
      "        If ``True``, multiple data are stacked on top of each other If\n",
      "        ``False`` multiple data are arranged side by side if histtype is\n",
      "        'bar' or on top of each other if histtype is 'step'\n",
      "    \n",
      "        Default is ``False``\n",
      "    \n",
      "    normed : bool, optional\n",
      "        Deprecated; use the density keyword argument instead.\n",
      "    \n",
      "    Returns\n",
      "    -------\n",
      "    n : array or list of arrays\n",
      "        The values of the histogram bins. See *normed* or *density*\n",
      "        and *weights* for a description of the possible semantics.\n",
      "        If input *x* is an array, then this is an array of length\n",
      "        *nbins*. If input is a sequence arrays\n",
      "        ``[data1, data2,..]``, then this is a list of arrays with\n",
      "        the values of the histograms for each of the arrays in the\n",
      "        same order.\n",
      "    \n",
      "    bins : array\n",
      "        The edges of the bins. Length nbins + 1 (nbins left edges and right\n",
      "        edge of last bin).  Always a single array even when multiple data\n",
      "        sets are passed in.\n",
      "    \n",
      "    patches : list or list of lists\n",
      "        Silent list of individual patches used to create the histogram\n",
      "        or list of such list if multiple input datasets.\n",
      "    \n",
      "    Other Parameters\n",
      "    ----------------\n",
      "    **kwargs : `~matplotlib.patches.Patch` properties\n",
      "    \n",
      "    See also\n",
      "    --------\n",
      "    hist2d : 2D histograms\n",
      "    \n",
      "    Notes\n",
      "    -----\n",
      "    .. [Notes section required for data comment. See #10189.]\n",
      "    \n",
      "    .. note::\n",
      "        In addition to the above described arguments, this function can take a\n",
      "        **data** keyword argument. If such a **data** argument is given, the\n",
      "        following arguments are replaced by **data[<arg>]**:\n",
      "    \n",
      "        * All arguments with the following names: 'weights', 'x'.\n",
      "\n"
     ]
    }
   ],
   "source": [
    "help(plt.hist)"
   ]
  },
  {
   "cell_type": "code",
   "execution_count": 94,
   "metadata": {},
   "outputs": [],
   "source": [
    "def plotting(data, x, y, file_name, t=\"scatter\"):\n",
    "    if(t==\"hist\"):\n",
    "        plt.hist(data[y])\n",
    "        plt.xlabel(y)\n",
    "        plt.ylabel(\"Frequency Count\")\n",
    "        return plt\n",
    "    elif(t==\"line\"):\n",
    "        plt.plot(data[x], data[y])\n",
    "    else:\n",
    "        plt.scatter(data[x], data[y])\n",
    "    plt.title(x + \" V/S \" + y)\n",
    "    plt.xlabel(x)\n",
    "    plt.ylabel(y)\n",
    "    plt.savefig(file_name)\n",
    "    return plt"
   ]
  },
  {
   "cell_type": "markdown",
   "metadata": {},
   "source": [
    "## Age V/S Absenteeism"
   ]
  },
  {
   "cell_type": "code",
   "execution_count": 25,
   "metadata": {},
   "outputs": [],
   "source": [
    "#Obtain the count of distinct ages\n",
    "from collections import Counter\n",
    "count_age = Counter(np.array(absent[\"Age\"]).ravel())"
   ]
  },
  {
   "cell_type": "code",
   "execution_count": 26,
   "metadata": {},
   "outputs": [],
   "source": [
    "#Create a Data Frame\n",
    "count_age = dict(count_age)\n",
    "count_age = pd.DataFrame({\"Age\": list(count_age.keys()), \"Frequency\": list(count_age.values())}, columns = [\"Age\", \"Frequency\"])\n"
   ]
  },
  {
   "cell_type": "code",
   "execution_count": 27,
   "metadata": {},
   "outputs": [],
   "source": [
    "count_age = count_age.sort_values(by=\"Frequency\", ascending=False)\n",
    "#count_age"
   ]
  },
  {
   "cell_type": "code",
   "execution_count": 28,
   "metadata": {},
   "outputs": [],
   "source": [
    "#Create bins of Age Group\n",
    "#Below 30, 30-40, 40-50, Above 50\n",
    "below_30, betw_30_40 = absent[absent[\"Age\"]<30], absent[(absent[\"Age\"]>=30) & (absent[\"Age\"]<40)]\n",
    "betw_40_50, above_50 = absent[(absent[\"Age\"]>=40) & (absent[\"Age\"]<50)], absent[absent[\"Age\"]>=50]"
   ]
  },
  {
   "cell_type": "code",
   "execution_count": 29,
   "metadata": {},
   "outputs": [],
   "source": [
    "#Find the average hours of Absenteeism per Age group\n",
    "def average(df, target = target):\n",
    "    return (np.average(np.array(df[target])))"
   ]
  },
  {
   "cell_type": "code",
   "execution_count": 30,
   "metadata": {},
   "outputs": [
    {
     "data": {
      "text/plain": [
       "[5.315384615384615, 6.8692493946731235, 6.311258278145695, 12.934782608695652]"
      ]
     },
     "execution_count": 30,
     "metadata": {},
     "output_type": "execute_result"
    }
   ],
   "source": [
    "age_group_df_list = [below_30, betw_30_40, betw_40_50, above_50]\n",
    "list(map(average, age_group_df_list))"
   ]
  },
  {
   "cell_type": "markdown",
   "metadata": {},
   "source": [
    "## Observations"
   ]
  },
  {
   "cell_type": "raw",
   "metadata": {},
   "source": [
    "People above 50 remain absent for an average of 12.93 hours(maximum), whereas people below 30 years remain absent for an average of 5.31 hours(minimum)."
   ]
  },
  {
   "cell_type": "code",
   "execution_count": null,
   "metadata": {},
   "outputs": [],
   "source": []
  },
  {
   "cell_type": "code",
   "execution_count": null,
   "metadata": {},
   "outputs": [],
   "source": []
  },
  {
   "cell_type": "markdown",
   "metadata": {},
   "source": [
    "## Social Smoker, Social Drinkers V/S Absenteeism Hours"
   ]
  },
  {
   "cell_type": "code",
   "execution_count": 31,
   "metadata": {},
   "outputs": [],
   "source": [
    "#Smokers and Drinkers\n",
    "smoker_drinker = absent[(absent[\"Social drinker\"]==1) & (absent[\"Social smoker\"]==1)]"
   ]
  },
  {
   "cell_type": "code",
   "execution_count": 32,
   "metadata": {},
   "outputs": [
    {
     "data": {
      "text/html": [
       "<div>\n",
       "<style scoped>\n",
       "    .dataframe tbody tr th:only-of-type {\n",
       "        vertical-align: middle;\n",
       "    }\n",
       "\n",
       "    .dataframe tbody tr th {\n",
       "        vertical-align: top;\n",
       "    }\n",
       "\n",
       "    .dataframe thead th {\n",
       "        text-align: right;\n",
       "    }\n",
       "</style>\n",
       "<table border=\"1\" class=\"dataframe\">\n",
       "  <thead>\n",
       "    <tr style=\"text-align: right;\">\n",
       "      <th></th>\n",
       "      <th>Reason for absence</th>\n",
       "      <th>Month of absence</th>\n",
       "      <th>Day of the week</th>\n",
       "      <th>Seasons</th>\n",
       "      <th>Transportation expense</th>\n",
       "      <th>Distance from Residence to Work</th>\n",
       "      <th>Service time</th>\n",
       "      <th>Age</th>\n",
       "      <th>Work load Average/day</th>\n",
       "      <th>Hit target</th>\n",
       "      <th>Disciplinary failure</th>\n",
       "      <th>Education</th>\n",
       "      <th>Son</th>\n",
       "      <th>Social drinker</th>\n",
       "      <th>Social smoker</th>\n",
       "      <th>Pet</th>\n",
       "      <th>Weight</th>\n",
       "      <th>Height</th>\n",
       "      <th>Body mass index</th>\n",
       "      <th>Absenteeism time in hours</th>\n",
       "    </tr>\n",
       "  </thead>\n",
       "  <tbody>\n",
       "    <tr>\n",
       "      <th>3</th>\n",
       "      <td>7.0</td>\n",
       "      <td>7.0</td>\n",
       "      <td>5</td>\n",
       "      <td>1</td>\n",
       "      <td>279.0</td>\n",
       "      <td>5.0</td>\n",
       "      <td>14.0</td>\n",
       "      <td>39.0</td>\n",
       "      <td>239554.0</td>\n",
       "      <td>97.0</td>\n",
       "      <td>0.0</td>\n",
       "      <td>1.0</td>\n",
       "      <td>2.0</td>\n",
       "      <td>1.0</td>\n",
       "      <td>1.0</td>\n",
       "      <td>0.0</td>\n",
       "      <td>68.0</td>\n",
       "      <td>168.0</td>\n",
       "      <td>24.0</td>\n",
       "      <td>4.0</td>\n",
       "    </tr>\n",
       "    <tr>\n",
       "      <th>27</th>\n",
       "      <td>28.0</td>\n",
       "      <td>8.0</td>\n",
       "      <td>4</td>\n",
       "      <td>1</td>\n",
       "      <td>157.0</td>\n",
       "      <td>27.0</td>\n",
       "      <td>6.0</td>\n",
       "      <td>29.0</td>\n",
       "      <td>205917.0</td>\n",
       "      <td>92.0</td>\n",
       "      <td>0.0</td>\n",
       "      <td>1.0</td>\n",
       "      <td>0.0</td>\n",
       "      <td>1.0</td>\n",
       "      <td>1.0</td>\n",
       "      <td>0.0</td>\n",
       "      <td>75.0</td>\n",
       "      <td>185.0</td>\n",
       "      <td>25.0</td>\n",
       "      <td>4.0</td>\n",
       "    </tr>\n",
       "    <tr>\n",
       "      <th>91</th>\n",
       "      <td>21.0</td>\n",
       "      <td>11.0</td>\n",
       "      <td>4</td>\n",
       "      <td>4</td>\n",
       "      <td>179.0</td>\n",
       "      <td>22.0</td>\n",
       "      <td>17.0</td>\n",
       "      <td>40.0</td>\n",
       "      <td>306345.0</td>\n",
       "      <td>95.0</td>\n",
       "      <td>0.0</td>\n",
       "      <td>2.0</td>\n",
       "      <td>2.0</td>\n",
       "      <td>1.0</td>\n",
       "      <td>1.0</td>\n",
       "      <td>0.0</td>\n",
       "      <td>63.0</td>\n",
       "      <td>170.0</td>\n",
       "      <td>22.0</td>\n",
       "      <td>8.0</td>\n",
       "    </tr>\n",
       "    <tr>\n",
       "      <th>157</th>\n",
       "      <td>19.0</td>\n",
       "      <td>3.0</td>\n",
       "      <td>3</td>\n",
       "      <td>2</td>\n",
       "      <td>157.0</td>\n",
       "      <td>27.0</td>\n",
       "      <td>6.0</td>\n",
       "      <td>29.0</td>\n",
       "      <td>343253.0</td>\n",
       "      <td>95.0</td>\n",
       "      <td>0.0</td>\n",
       "      <td>1.0</td>\n",
       "      <td>0.0</td>\n",
       "      <td>1.0</td>\n",
       "      <td>1.0</td>\n",
       "      <td>0.0</td>\n",
       "      <td>75.0</td>\n",
       "      <td>185.0</td>\n",
       "      <td>22.0</td>\n",
       "      <td>3.0</td>\n",
       "    </tr>\n",
       "    <tr>\n",
       "      <th>172</th>\n",
       "      <td>14.0</td>\n",
       "      <td>3.0</td>\n",
       "      <td>2</td>\n",
       "      <td>2</td>\n",
       "      <td>279.0</td>\n",
       "      <td>5.0</td>\n",
       "      <td>14.0</td>\n",
       "      <td>39.0</td>\n",
       "      <td>343253.0</td>\n",
       "      <td>95.0</td>\n",
       "      <td>0.0</td>\n",
       "      <td>1.0</td>\n",
       "      <td>2.0</td>\n",
       "      <td>1.0</td>\n",
       "      <td>1.0</td>\n",
       "      <td>0.0</td>\n",
       "      <td>68.0</td>\n",
       "      <td>168.0</td>\n",
       "      <td>24.0</td>\n",
       "      <td>8.0</td>\n",
       "    </tr>\n",
       "  </tbody>\n",
       "</table>\n",
       "</div>"
      ],
      "text/plain": [
       "     Reason for absence  Month of absence  Day of the week  Seasons  \\\n",
       "3                   7.0               7.0                5        1   \n",
       "27                 28.0               8.0                4        1   \n",
       "91                 21.0              11.0                4        4   \n",
       "157                19.0               3.0                3        2   \n",
       "172                14.0               3.0                2        2   \n",
       "\n",
       "     Transportation expense  Distance from Residence to Work  Service time  \\\n",
       "3                     279.0                              5.0          14.0   \n",
       "27                    157.0                             27.0           6.0   \n",
       "91                    179.0                             22.0          17.0   \n",
       "157                   157.0                             27.0           6.0   \n",
       "172                   279.0                              5.0          14.0   \n",
       "\n",
       "      Age  Work load Average/day  Hit target  Disciplinary failure  Education  \\\n",
       "3    39.0               239554.0        97.0                   0.0        1.0   \n",
       "27   29.0               205917.0        92.0                   0.0        1.0   \n",
       "91   40.0               306345.0        95.0                   0.0        2.0   \n",
       "157  29.0               343253.0        95.0                   0.0        1.0   \n",
       "172  39.0               343253.0        95.0                   0.0        1.0   \n",
       "\n",
       "     Son  Social drinker  Social smoker  Pet  Weight  Height  Body mass index  \\\n",
       "3    2.0             1.0            1.0  0.0    68.0   168.0             24.0   \n",
       "27   0.0             1.0            1.0  0.0    75.0   185.0             25.0   \n",
       "91   2.0             1.0            1.0  0.0    63.0   170.0             22.0   \n",
       "157  0.0             1.0            1.0  0.0    75.0   185.0             22.0   \n",
       "172  2.0             1.0            1.0  0.0    68.0   168.0             24.0   \n",
       "\n",
       "     Absenteeism time in hours  \n",
       "3                          4.0  \n",
       "27                         4.0  \n",
       "91                         8.0  \n",
       "157                        3.0  \n",
       "172                        8.0  "
      ]
     },
     "execution_count": 32,
     "metadata": {},
     "output_type": "execute_result"
    }
   ],
   "source": [
    "smoker_drinker.head()"
   ]
  },
  {
   "cell_type": "code",
   "execution_count": 95,
   "metadata": {},
   "outputs": [
    {
     "data": {
      "image/png": "[encoded data removed]",
      "text/plain": [
       "<Figure size 432x288 with 1 Axes>"
      ]
     },
     "metadata": {},
     "output_type": "display_data"
    }
   ],
   "source": [
    "#Plot Age V/S target\n",
    "plotting(smoker_drinker, \"Age\", target, \"Smokers and Drinkers Versus Absenteeism Hours\").show()\n"
   ]
  },
  {
   "cell_type": "markdown",
   "metadata": {},
   "source": [
    "### Smokers or Drinkers"
   ]
  },
  {
   "cell_type": "code",
   "execution_count": 96,
   "metadata": {},
   "outputs": [
    {
     "data": {
      "text/plain": [
       "<module 'matplotlib.pyplot' from '/home/shrikrishna/anaconda3/lib/python3.6/site-packages/matplotlib/pyplot.py'>"
      ]
     },
     "execution_count": 96,
     "metadata": {},
     "output_type": "execute_result"
    },
    {
     "data": {
      "image/png": "[encoded data removed]",
      "text/plain": [
       "<Figure size 432x288 with 1 Axes>"
      ]
     },
     "metadata": {},
     "output_type": "display_data"
    }
   ],
   "source": [
    "#Smokers or Drinkers\n",
    "#These are the people who are either smokers or drinkers or both\n",
    "smoker_OR_drinker = absent[((absent[\"Social drinker\"]==0) & (absent[\"Social smoker\"]==1)) | ((absent[\"Social drinker\"]==1) & (absent[\"Social smoker\"]==0))]\n",
    "plotting(smoker_OR_drinker, \"Age\", target, \"Smokers or Drinkers Versus Absenteeism Hours\")\n"
   ]
  },
  {
   "cell_type": "code",
   "execution_count": 97,
   "metadata": {},
   "outputs": [
    {
     "data": {
      "text/plain": [
       "<module 'matplotlib.pyplot' from '/home/shrikrishna/anaconda3/lib/python3.6/site-packages/matplotlib/pyplot.py'>"
      ]
     },
     "execution_count": 97,
     "metadata": {},
     "output_type": "execute_result"
    },
    {
     "data": {
      "image/png": "[encoded data removed]",
      "text/plain": [
       "<Figure size 432x288 with 1 Axes>"
      ]
     },
     "metadata": {},
     "output_type": "display_data"
    }
   ],
   "source": [
    "#Diseases to this group\n",
    "plotting(smoker_OR_drinker, \"\", \"Reason for absence\", \"Smokers or Drinkers Reason of Absence Count\", \"hist\")"
   ]
  },
  {
   "cell_type": "markdown",
   "metadata": {},
   "source": [
    "### Only Smokers"
   ]
  },
  {
   "cell_type": "code",
   "execution_count": 102,
   "metadata": {},
   "outputs": [
    {
     "data": {
      "text/plain": [
       "<module 'matplotlib.pyplot' from '/home/shrikrishna/anaconda3/lib/python3.6/site-packages/matplotlib/pyplot.py'>"
      ]
     },
     "execution_count": 102,
     "metadata": {},
     "output_type": "execute_result"
    },
    {
     "data": {
      "image/png": "[encoded data removed]",
      "text/plain": [
       "<Figure size 432x288 with 1 Axes>"
      ]
     },
     "metadata": {},
     "output_type": "display_data"
    }
   ],
   "source": [
    "#Only Smokers\n",
    "smoker = absent[(absent[\"Social drinker\"]==0) & (absent[\"Social smoker\"]==1)]\n",
    "plotting(smoker, \"Age\",  target, \"Smokers Versus Absnteeism Hours\")"
   ]
  },
  {
   "cell_type": "code",
   "execution_count": 100,
   "metadata": {},
   "outputs": [
    {
     "data": {
      "text/plain": [
       "<module 'matplotlib.pyplot' from '/home/shrikrishna/anaconda3/lib/python3.6/site-packages/matplotlib/pyplot.py'>"
      ]
     },
     "execution_count": 100,
     "metadata": {},
     "output_type": "execute_result"
    },
    {
     "data": {
      "image/png": "[encoded data removed]",
      "text/plain": [
       "<Figure size 432x288 with 1 Axes>"
      ]
     },
     "metadata": {},
     "output_type": "display_data"
    }
   ],
   "source": [
    "#Diseases to this group\n",
    "plotting(smoker, \"\", \"Reason for absence\", \"Smokers Versus Absnteeism Hours Frequency Count\", \"hist\")"
   ]
  },
  {
   "cell_type": "markdown",
   "metadata": {},
   "source": [
    "### Only Drinkers"
   ]
  },
  {
   "cell_type": "code",
   "execution_count": 103,
   "metadata": {},
   "outputs": [
    {
     "data": {
      "text/plain": [
       "<module 'matplotlib.pyplot' from '/home/shrikrishna/anaconda3/lib/python3.6/site-packages/matplotlib/pyplot.py'>"
      ]
     },
     "execution_count": 103,
     "metadata": {},
     "output_type": "execute_result"
    },
    {
     "data": {
      "image/png": "[encoded data removed]",
      "text/plain": [
       "<Figure size 432x288 with 1 Axes>"
      ]
     },
     "metadata": {},
     "output_type": "display_data"
    }
   ],
   "source": [
    "#Only Drinkers\n",
    "drinker = absent[(absent[\"Social drinker\"]==1) & (absent[\"Social smoker\"]==0)]\n",
    "plotting(drinker, \"Age\", target, \"Drinkers Versus Absenteeism Hours\")"
   ]
  },
  {
   "cell_type": "code",
   "execution_count": 104,
   "metadata": {},
   "outputs": [
    {
     "data": {
      "text/plain": [
       "<module 'matplotlib.pyplot' from '/home/shrikrishna/anaconda3/lib/python3.6/site-packages/matplotlib/pyplot.py'>"
      ]
     },
     "execution_count": 104,
     "metadata": {},
     "output_type": "execute_result"
    },
    {
     "data": {
      "image/png": "[encoded data removed]",
      "text/plain": [
       "<Figure size 432x288 with 1 Axes>"
      ]
     },
     "metadata": {},
     "output_type": "display_data"
    }
   ],
   "source": [
    "plotting(drinker, \"Age\", target, \"Drinkers Versus Absnteeism Hours Frequency Count\", \"hist\")"
   ]
  },
  {
   "cell_type": "code",
   "execution_count": 105,
   "metadata": {},
   "outputs": [
    {
     "data": {
      "text/plain": [
       "<module 'matplotlib.pyplot' from '/home/shrikrishna/anaconda3/lib/python3.6/site-packages/matplotlib/pyplot.py'>"
      ]
     },
     "execution_count": 105,
     "metadata": {},
     "output_type": "execute_result"
    },
    {
     "data": {
      "image/png": "[encoded data removed]",
      "text/plain": [
       "<Figure size 432x288 with 1 Axes>"
      ]
     },
     "metadata": {},
     "output_type": "display_data"
    }
   ],
   "source": [
    "#Diseases to this group\n",
    "plotting(drinker, \"\", \"Reason for absence\", \"Reason for Absence for Drinkers\", \"hist\")"
   ]
  },
  {
   "cell_type": "code",
   "execution_count": 110,
   "metadata": {},
   "outputs": [
    {
     "data": {
      "text/plain": [
       "Counter({26.0: 25,\n",
       "         0.0: 26,\n",
       "         23.0: 67,\n",
       "         22.0: 26,\n",
       "         19.0: 26,\n",
       "         1.0: 5,\n",
       "         11.0: 10,\n",
       "         14.0: 10,\n",
       "         21.0: 2,\n",
       "         13.0: 33,\n",
       "         28.0: 82,\n",
       "         18.0: 9,\n",
       "         25.0: 5,\n",
       "         24.0: 3,\n",
       "         10.0: 14,\n",
       "         6.0: 3,\n",
       "         7.0: 4,\n",
       "         12.0: 4,\n",
       "         8.0: 1,\n",
       "         9.0: 2,\n",
       "         15.0: 1,\n",
       "         4.0: 1,\n",
       "         3.0: 1,\n",
       "         27.0: 38,\n",
       "         5.0: 2})"
      ]
     },
     "execution_count": 110,
     "metadata": {},
     "output_type": "execute_result"
    }
   ],
   "source": [
    "Counter(drinker[\"Reason for absence\"])"
   ]
  },
  {
   "cell_type": "raw",
   "metadata": {},
   "source": [
    "The most frequent reason for absence amongst drinkers is dental consultation (28) followed by medical consultation (23) then physiotherapy (27)."
   ]
  },
  {
   "cell_type": "code",
   "execution_count": null,
   "metadata": {},
   "outputs": [],
   "source": []
  },
  {
   "cell_type": "code",
   "execution_count": 106,
   "metadata": {},
   "outputs": [
    {
     "data": {
      "text/plain": [
       "<module 'matplotlib.pyplot' from '/home/shrikrishna/anaconda3/lib/python3.6/site-packages/matplotlib/pyplot.py'>"
      ]
     },
     "execution_count": 106,
     "metadata": {},
     "output_type": "execute_result"
    },
    {
     "data": {
      "image/png": "[encoded data removed]",
      "text/plain": [
       "<Figure size 432x288 with 1 Axes>"
      ]
     },
     "metadata": {},
     "output_type": "display_data"
    }
   ],
   "source": [
    "#Neither Smokers Nor Drinkers\n",
    "non_addict = absent[(absent[\"Social drinker\"]==0) & (absent[\"Social smoker\"]==0)]\n",
    "plotting(non_addict, \"Age\", target, \"Absenteeism Hours for Non Addict\")"
   ]
  },
  {
   "cell_type": "code",
   "execution_count": 107,
   "metadata": {},
   "outputs": [
    {
     "data": {
      "text/plain": [
       "<module 'matplotlib.pyplot' from '/home/shrikrishna/anaconda3/lib/python3.6/site-packages/matplotlib/pyplot.py'>"
      ]
     },
     "execution_count": 107,
     "metadata": {},
     "output_type": "execute_result"
    },
    {
     "data": {
      "image/png": "[encoded data removed]",
      "text/plain": [
       "<Figure size 432x288 with 1 Axes>"
      ]
     },
     "metadata": {},
     "output_type": "display_data"
    }
   ],
   "source": [
    "#Diseases to this group\n",
    "plotting(non_addict, \"\", \"Reason for absence\", \"Reason for absence for Non Addict\", \"hist\")"
   ]
  },
  {
   "cell_type": "markdown",
   "metadata": {},
   "source": [
    "### Observations"
   ]
  },
  {
   "cell_type": "raw",
   "metadata": {},
   "source": [
    "From the above graphs it is clear that the smokers and/or drinkers remain absent for more hours than those who are non addict."
   ]
  },
  {
   "cell_type": "raw",
   "metadata": {},
   "source": [
    "The most frequent reason for absence amongst drinkers is dental consultation (28) followed by medical consultation (23) then physiotherapy (27)."
   ]
  },
  {
   "cell_type": "raw",
   "metadata": {},
   "source": [
    "Those who are exclusive smokers(not drinkers) remain less absent than those who are exclusive drinkers(not smokers)."
   ]
  },
  {
   "cell_type": "raw",
   "metadata": {},
   "source": [
    "Refraining from Alcohol will help more in reducing the Absenteeism as compared to preventing smoking."
   ]
  },
  {
   "cell_type": "markdown",
   "metadata": {},
   "source": [
    "## Analyze the Absenteeism trend Due to Pregnancy"
   ]
  },
  {
   "cell_type": "code",
   "execution_count": 44,
   "metadata": {},
   "outputs": [],
   "source": [
    "#Reason for Absence Category 15\n",
    "absent_pregnancy = absent.loc[absent[\"Reason for absence\"]==15, :]"
   ]
  },
  {
   "cell_type": "code",
   "execution_count": 45,
   "metadata": {},
   "outputs": [
    {
     "data": {
      "text/html": [
       "<div>\n",
       "<style scoped>\n",
       "    .dataframe tbody tr th:only-of-type {\n",
       "        vertical-align: middle;\n",
       "    }\n",
       "\n",
       "    .dataframe tbody tr th {\n",
       "        vertical-align: top;\n",
       "    }\n",
       "\n",
       "    .dataframe thead th {\n",
       "        text-align: right;\n",
       "    }\n",
       "</style>\n",
       "<table border=\"1\" class=\"dataframe\">\n",
       "  <thead>\n",
       "    <tr style=\"text-align: right;\">\n",
       "      <th></th>\n",
       "      <th>Reason for absence</th>\n",
       "      <th>Month of absence</th>\n",
       "      <th>Day of the week</th>\n",
       "      <th>Seasons</th>\n",
       "      <th>Transportation expense</th>\n",
       "      <th>Distance from Residence to Work</th>\n",
       "      <th>Service time</th>\n",
       "      <th>Age</th>\n",
       "      <th>Work load Average/day</th>\n",
       "      <th>Hit target</th>\n",
       "      <th>Disciplinary failure</th>\n",
       "      <th>Education</th>\n",
       "      <th>Son</th>\n",
       "      <th>Social drinker</th>\n",
       "      <th>Social smoker</th>\n",
       "      <th>Pet</th>\n",
       "      <th>Weight</th>\n",
       "      <th>Height</th>\n",
       "      <th>Body mass index</th>\n",
       "      <th>Absenteeism time in hours</th>\n",
       "    </tr>\n",
       "  </thead>\n",
       "  <tbody>\n",
       "    <tr>\n",
       "      <th>335</th>\n",
       "      <td>15.0</td>\n",
       "      <td>11.0</td>\n",
       "      <td>6</td>\n",
       "      <td>4</td>\n",
       "      <td>260.0</td>\n",
       "      <td>50.0</td>\n",
       "      <td>11.0</td>\n",
       "      <td>36.0</td>\n",
       "      <td>284031.0</td>\n",
       "      <td>97.0</td>\n",
       "      <td>0.0</td>\n",
       "      <td>1.0</td>\n",
       "      <td>4.0</td>\n",
       "      <td>1.0</td>\n",
       "      <td>0.0</td>\n",
       "      <td>0.0</td>\n",
       "      <td>65.0</td>\n",
       "      <td>168.0</td>\n",
       "      <td>23.0</td>\n",
       "      <td>8.0</td>\n",
       "    </tr>\n",
       "    <tr>\n",
       "      <th>468</th>\n",
       "      <td>15.0</td>\n",
       "      <td>7.0</td>\n",
       "      <td>2</td>\n",
       "      <td>1</td>\n",
       "      <td>300.0</td>\n",
       "      <td>26.0</td>\n",
       "      <td>13.0</td>\n",
       "      <td>43.0</td>\n",
       "      <td>230290.0</td>\n",
       "      <td>92.0</td>\n",
       "      <td>0.0</td>\n",
       "      <td>1.0</td>\n",
       "      <td>2.0</td>\n",
       "      <td>1.0</td>\n",
       "      <td>1.0</td>\n",
       "      <td>1.0</td>\n",
       "      <td>77.0</td>\n",
       "      <td>175.0</td>\n",
       "      <td>25.0</td>\n",
       "      <td>8.0</td>\n",
       "    </tr>\n",
       "  </tbody>\n",
       "</table>\n",
       "</div>"
      ],
      "text/plain": [
       "     Reason for absence  Month of absence  Day of the week  Seasons  \\\n",
       "335                15.0              11.0                6        4   \n",
       "468                15.0               7.0                2        1   \n",
       "\n",
       "     Transportation expense  Distance from Residence to Work  Service time  \\\n",
       "335                   260.0                             50.0          11.0   \n",
       "468                   300.0                             26.0          13.0   \n",
       "\n",
       "      Age  Work load Average/day  Hit target  Disciplinary failure  Education  \\\n",
       "335  36.0               284031.0        97.0                   0.0        1.0   \n",
       "468  43.0               230290.0        92.0                   0.0        1.0   \n",
       "\n",
       "     Son  Social drinker  Social smoker  Pet  Weight  Height  Body mass index  \\\n",
       "335  4.0             1.0            0.0  0.0    65.0   168.0             23.0   \n",
       "468  2.0             1.0            1.0  1.0    77.0   175.0             25.0   \n",
       "\n",
       "     Absenteeism time in hours  \n",
       "335                        8.0  \n",
       "468                        8.0  "
      ]
     },
     "execution_count": 45,
     "metadata": {},
     "output_type": "execute_result"
    }
   ],
   "source": [
    "absent_pregnancy"
   ]
  },
  {
   "cell_type": "markdown",
   "metadata": {},
   "source": [
    "## Relationship Between Distance of work from Residence and Hours of Absenteeism. Transportation Expense V/S Absenteeism"
   ]
  },
  {
   "cell_type": "code",
   "execution_count": 111,
   "metadata": {},
   "outputs": [
    {
     "data": {
      "text/plain": [
       "<module 'matplotlib.pyplot' from '/home/shrikrishna/anaconda3/lib/python3.6/site-packages/matplotlib/pyplot.py'>"
      ]
     },
     "execution_count": 111,
     "metadata": {},
     "output_type": "execute_result"
    },
    {
     "data": {
      "image/png": "[encoded data removed]",
      "text/plain": [
       "<Figure size 432x288 with 1 Axes>"
      ]
     },
     "metadata": {},
     "output_type": "display_data"
    }
   ],
   "source": [
    "#Histogram\n",
    "plotting(absent, \"Distance from Residence to Work\", target, \"Distance from Residence to Work Versus Absenteism Hours\")"
   ]
  },
  {
   "cell_type": "code",
   "execution_count": 112,
   "metadata": {},
   "outputs": [],
   "source": [
    "dist_below_10 =absent[absent[\"Distance from Residence to Work\"]<10]\n",
    "dist_betw_10_20 = absent[(absent[\"Distance from Residence to Work\"]>=10) & (absent[\"Distance from Residence to Work\"]<20)]\n",
    "dist_betw_20_40 = absent[(absent[\"Distance from Residence to Work\"]>=20) & (absent[\"Distance from Residence to Work\"]<40)]\n",
    "dist_betw_40_50 = absent[(absent[\"Distance from Residence to Work\"]>=40) & (absent[\"Distance from Residence to Work\"]<50)]\n",
    "above_50 = absent[absent[\"Distance from Residence to Work\"]>=50]"
   ]
  },
  {
   "cell_type": "code",
   "execution_count": 113,
   "metadata": {},
   "outputs": [
    {
     "data": {
      "text/plain": [
       "[25.0,\n",
       " 8.935643564356436,\n",
       " 6.431677018633541,\n",
       " 3.619047619047619,\n",
       " 5.1534391534391535]"
      ]
     },
     "execution_count": 113,
     "metadata": {},
     "output_type": "execute_result"
    }
   ],
   "source": [
    "#Average Absenteeism Hours distance from Residence to Work\n",
    "dist_group_df_list = [dist_below_10, dist_betw_10_20, dist_betw_20_40, dist_betw_40_50, above_50]\n",
    "list(map(average, dist_group_df_list))"
   ]
  },
  {
   "cell_type": "code",
   "execution_count": 114,
   "metadata": {},
   "outputs": [
    {
     "data": {
      "text/plain": [
       "<module 'matplotlib.pyplot' from '/home/shrikrishna/anaconda3/lib/python3.6/site-packages/matplotlib/pyplot.py'>"
      ]
     },
     "execution_count": 114,
     "metadata": {},
     "output_type": "execute_result"
    },
    {
     "data": {
      "image/png": "[encoded data removed]",
      "text/plain": [
       "<Figure size 432x288 with 1 Axes>"
      ]
     },
     "metadata": {},
     "output_type": "display_data"
    }
   ],
   "source": [
    "#Histogram\n",
    "plotting(absent, \"Transportation expense\", target, \"Transportation expense Versus Absenteeism Hours\")"
   ]
  },
  {
   "cell_type": "markdown",
   "metadata": {},
   "source": [
    "## Relationship Between Education and Hours of Absenteeism"
   ]
  },
  {
   "cell_type": "code",
   "execution_count": 50,
   "metadata": {},
   "outputs": [
    {
     "data": {
      "text/plain": [
       "<module 'matplotlib.pyplot' from '/home/shrikrishna/anaconda3/lib/python3.6/site-packages/matplotlib/pyplot.py'>"
      ]
     },
     "execution_count": 50,
     "metadata": {},
     "output_type": "execute_result"
    },
    {
     "data": {
      "image/png": "[encoded data removed]",
      "text/plain": [
       "<Figure size 432x288 with 1 Axes>"
      ]
     },
     "metadata": {},
     "output_type": "display_data"
    }
   ],
   "source": [
    "plotting(absent, \"Education\", target)"
   ]
  },
  {
   "cell_type": "code",
   "execution_count": 51,
   "metadata": {},
   "outputs": [],
   "source": [
    "df_high_school, df_graduate = absent[absent[\"Education\"]==1], absent[absent[\"Education\"]==2]\n",
    "df_PG, df_masters = absent[absent[\"Education\"]==3], absent[absent[\"Education\"]==4]"
   ]
  },
  {
   "cell_type": "code",
   "execution_count": 52,
   "metadata": {},
   "outputs": [
    {
     "data": {
      "text/plain": [
       "[7.114566284779051, 6.282608695652174, 5.30379746835443, 5.25]"
      ]
     },
     "execution_count": 52,
     "metadata": {},
     "output_type": "execute_result"
    }
   ],
   "source": [
    "list(map(average, [df_high_school, df_graduate, df_PG, df_masters]))"
   ]
  },
  {
   "cell_type": "raw",
   "metadata": {},
   "source": [
    "Employees having High School education remain absent the most, whereas Employees having Masters remain absent the least."
   ]
  },
  {
   "cell_type": "markdown",
   "metadata": {},
   "source": [
    "### Chi-Squared Test of Independence"
   ]
  },
  {
   "cell_type": "raw",
   "metadata": {},
   "source": [
    "Null Hypothesis H0:- The two variables are dependent.\n",
    "Alternate Hypothesis H1:- The two variables are independent."
   ]
  },
  {
   "cell_type": "code",
   "execution_count": 53,
   "metadata": {},
   "outputs": [],
   "source": [
    "categorical_variables = [\"Reason for absence\", \"Social drinker\", \"Social smoker\", \"Seasons\", \"Day of the week\", \"Disciplinary failure\", \"Education\"]"
   ]
  },
  {
   "cell_type": "code",
   "execution_count": 54,
   "metadata": {},
   "outputs": [
    {
     "name": "stdout",
     "output_type": "stream",
     "text": [
      "Category_1\t\tCategory_2\t\tChi_Square\t\tP-Value\n",
      "Reason for absence\tSocial drinker\t\t86.5335\t\t0.0000\n",
      "Reason for absence\tSocial smoker\t\t93.8297\t\t0.0000\n",
      "Reason for absence\tSeasons\t\t267.9354\t\t0.0000\n",
      "Reason for absence\tDay of the week\t\t131.3106\t\t0.0631\n",
      "Reason for absence\tDisciplinary failure\t\t667.3330\t\t0.0000\n",
      "Reason for absence\tEducation\t\t189.1442\t\t0.0000\n",
      "Social drinker\tReason for absence\t\t86.5335\t\t0.0000\n",
      "Social drinker\tSocial smoker\t\t6.9266\t\t0.0085\n",
      "Social drinker\tSeasons\t\t5.5355\t\t0.1365\n",
      "Social drinker\tDay of the week\t\t2.7203\t\t0.6057\n",
      "Social drinker\tDisciplinary failure\t\t1.2108\t\t0.2712\n",
      "Social drinker\tEducation\t\t161.7074\t\t0.0000\n",
      "Social smoker\tReason for absence\t\t93.8297\t\t0.0000\n",
      "Social smoker\tSocial drinker\t\t6.9266\t\t0.0085\n",
      "Social smoker\tSeasons\t\t6.7584\t\t0.0800\n",
      "Social smoker\tDay of the week\t\t1.6061\t\t0.8077\n",
      "Social smoker\tDisciplinary failure\t\t8.6668\t\t0.0032\n",
      "Social smoker\tEducation\t\t98.2601\t\t0.0000\n",
      "Seasons\tReason for absence\t\t267.9354\t\t0.0000\n",
      "Seasons\tSocial drinker\t\t5.5355\t\t0.1365\n",
      "Seasons\tSocial smoker\t\t6.7584\t\t0.0800\n",
      "Seasons\tDay of the week\t\t15.9100\t\t0.1954\n",
      "Seasons\tDisciplinary failure\t\t21.4650\t\t0.0001\n",
      "Seasons\tEducation\t\t15.4047\t\t0.0804\n",
      "Day of the week\tReason for absence\t\t131.3106\t\t0.0631\n",
      "Day of the week\tSocial drinker\t\t2.7203\t\t0.6057\n",
      "Day of the week\tSocial smoker\t\t1.6061\t\t0.8077\n",
      "Day of the week\tSeasons\t\t15.9100\t\t0.1954\n",
      "Day of the week\tDisciplinary failure\t\t4.8388\t\t0.3042\n",
      "Day of the week\tEducation\t\t10.7730\t\t0.5485\n",
      "Disciplinary failure\tReason for absence\t\t667.3330\t\t0.0000\n",
      "Disciplinary failure\tSocial drinker\t\t1.2108\t\t0.2712\n",
      "Disciplinary failure\tSocial smoker\t\t8.6668\t\t0.0032\n",
      "Disciplinary failure\tSeasons\t\t21.4650\t\t0.0001\n",
      "Disciplinary failure\tDay of the week\t\t4.8388\t\t0.3042\n",
      "Disciplinary failure\tEducation\t\t3.1610\t\t0.3675\n",
      "Education\tReason for absence\t\t189.1442\t\t0.0000\n",
      "Education\tSocial drinker\t\t161.7074\t\t0.0000\n",
      "Education\tSocial smoker\t\t98.2601\t\t0.0000\n",
      "Education\tSeasons\t\t15.4047\t\t0.0804\n",
      "Education\tDay of the week\t\t10.7730\t\t0.5485\n",
      "Education\tDisciplinary failure\t\t3.1610\t\t0.3675\n"
     ]
    }
   ],
   "source": [
    "#Get the correlation between the categorical variables and perform the chi-squared test.\n",
    "from scipy.stats import chi2_contingency\n",
    "#category_dict = defaultdict()\n",
    "print(\"Category_1\\t\\tCategory_2\\t\\tChi_Square\\t\\tP-Value\")\n",
    "\n",
    "select = []    #Include the variables whose p-value < 0.05\n",
    "\n",
    "for cat_1 in categorical_variables:\n",
    "        #category_dict[cat_1] = []\n",
    "        for cat_2 in categorical_variables:\n",
    "            #res = get_correlation_coefficient(absent[cat_1].tolist(), absent[cat_2].tolist())\n",
    "            #category_dict[cat_1].append(res)\n",
    "            if(cat_1!=cat_2):\n",
    "                chi_value, p_value, dof, ex = chi2_contingency(\n",
    "                                          pd.crosstab(absent[cat_1], absent[cat_2]))\n",
    "                                          #Develop a Contingency table\n",
    "                if(p_value<0.05):\n",
    "                    if(cat_2 not in select):\n",
    "                        select.append(cat_2)\n",
    "                print(\"%s\\t%s\\t\\t%.4f\\t\\t%.4f\" %(cat_1,cat_2,chi_value, p_value))"
   ]
  },
  {
   "cell_type": "code",
   "execution_count": 55,
   "metadata": {},
   "outputs": [
    {
     "data": {
      "text/plain": [
       "['Social drinker',\n",
       " 'Social smoker',\n",
       " 'Seasons',\n",
       " 'Disciplinary failure',\n",
       " 'Education',\n",
       " 'Reason for absence']"
      ]
     },
     "execution_count": 55,
     "metadata": {},
     "output_type": "execute_result"
    }
   ],
   "source": [
    "select"
   ]
  },
  {
   "cell_type": "code",
   "execution_count": 56,
   "metadata": {},
   "outputs": [],
   "source": [
    "#Consider the selected features from the categorical features and the non-categorical features\n",
    "features = list(set(set(absent.columns) - set(categorical_variables)).union(set(select)))\n",
    "\n",
    "#remove the target\n",
    "features.remove('Absenteeism time in hours')"
   ]
  },
  {
   "cell_type": "code",
   "execution_count": 57,
   "metadata": {},
   "outputs": [
    {
     "data": {
      "text/plain": [
       "['Day of the week', 'Absenteeism time in hours']"
      ]
     },
     "execution_count": 57,
     "metadata": {},
     "output_type": "execute_result"
    }
   ],
   "source": [
    "#Check the features not present in the features list\n",
    "[col for col in absent.columns if col not in features]"
   ]
  },
  {
   "cell_type": "code",
   "execution_count": 58,
   "metadata": {},
   "outputs": [],
   "source": [
    "#Set the dependent and Independent Variables\n",
    "target = \"Absenteeism time in hours\"\n",
    "X = absent.loc[:, features]\n",
    "y = absent[target]"
   ]
  },
  {
   "cell_type": "code",
   "execution_count": 59,
   "metadata": {},
   "outputs": [
    {
     "data": {
      "text/plain": [
       "(array([678.,  19.,  21.,   7.,   3.,   3.,   3.,   0.,   1.,   5.]),\n",
       " array([  0.,  12.,  24.,  36.,  48.,  60.,  72.,  84.,  96., 108., 120.]),\n",
       " <a list of 10 Patch objects>)"
      ]
     },
     "execution_count": 59,
     "metadata": {},
     "output_type": "execute_result"
    },
    {
     "data": {
      "image/png": "[encoded data removed]",
      "text/plain": [
       "<Figure size 432x288 with 1 Axes>"
      ]
     },
     "metadata": {},
     "output_type": "display_data"
    }
   ],
   "source": [
    "plt.hist(y)"
   ]
  },
  {
   "cell_type": "code",
   "execution_count": 60,
   "metadata": {},
   "outputs": [],
   "source": [
    "#Split the data into training and testing set\n",
    "from sklearn.model_selection import train_test_split\n",
    "def split_data(X, y, manual = False):\n",
    "    if(manual!=False):\n",
    "        #Top 20 percent rows testing and rest training\n",
    "        l = int(0.2* X.shape[0])\n",
    "        X_test, y_test = (X.iloc[:l, :], y[:l])\n",
    "        X_train, y_train = (X.iloc[l:, :], y[l:])\n",
    "        #y_train, y_test = ()\n",
    "        return (X_train, X_test, y_train, y_test)\n",
    "    \n",
    "    #Training Size - 80%, Testing Size - 20% \n",
    "    #Random State - set the seed of the random number generator\n",
    "    X_train, X_test, y_train, y_test = train_test_split(X, y, test_size = 0.2, random_state = 42)\n",
    "    return(X_train, X_test, y_train, y_test)\n",
    "    "
   ]
  },
  {
   "cell_type": "code",
   "execution_count": 61,
   "metadata": {},
   "outputs": [
    {
     "data": {
      "text/plain": [
       "(740, 18)"
      ]
     },
     "execution_count": 61,
     "metadata": {},
     "output_type": "execute_result"
    }
   ],
   "source": [
    "X.shape"
   ]
  },
  {
   "cell_type": "markdown",
   "metadata": {},
   "source": [
    "## Split the data in a Definite Manner"
   ]
  },
  {
   "cell_type": "raw",
   "metadata": {},
   "source": [
    "The top 20% observations are used for testing and the rest for training the model."
   ]
  },
  {
   "cell_type": "code",
   "execution_count": null,
   "metadata": {},
   "outputs": [],
   "source": []
  },
  {
   "cell_type": "markdown",
   "metadata": {},
   "source": [
    "## Split the data Randomly"
   ]
  },
  {
   "cell_type": "raw",
   "metadata": {},
   "source": [
    "Data is split randomly using the train_test_split method\n",
    "with the seed set to 42. 80% observations fall into train set and the rest 20% in test set."
   ]
  },
  {
   "cell_type": "code",
   "execution_count": 62,
   "metadata": {},
   "outputs": [
    {
     "name": "stdout",
     "output_type": "stream",
     "text": [
      "X_train:- (592, 18)\tX_test:- (148, 18)\n",
      "y_train:- (592,)\ty_test:- (148,)\n"
     ]
    }
   ],
   "source": [
    "\n",
    "X_train, X_test, y_train, y_test = split_data(X, y)\n",
    "print(\"X_train:- {}\\tX_test:- {}\\ny_train:- {}\\ty_test:- {}\" .format(X_train.shape, X_test.shape, y_train.shape, y_test.shape))"
   ]
  },
  {
   "cell_type": "code",
   "execution_count": 65,
   "metadata": {},
   "outputs": [],
   "source": [
    "#Check the accuracy of various regressors\n",
    "from sklearn.model_selection import cross_val_score\n",
    "def check_cv(X, y, regressor):\n",
    "    #Perform 7 fold(default=3) cross validation on training data\n",
    "    scores = cross_val_score(estimator= regressor, X=X, y=y, cv=7, n_jobs=1)\n",
    "    print(\"Scores:-{}\\n\" .format(scores))\n",
    "    print(\"Average Accuracy:- %.2f\\n\" %(np.mean(scores)))"
   ]
  },
  {
   "cell_type": "code",
   "execution_count": 66,
   "metadata": {},
   "outputs": [
    {
     "name": "stdout",
     "output_type": "stream",
     "text": [
      "Scores:-[ 0.11224614 -0.00982443  0.09849869  0.06656508  0.01120429  0.1056465\n",
      " -0.12816056]\n",
      "\n",
      "Average Accuracy:- 0.04\n",
      "\n"
     ]
    }
   ],
   "source": [
    "#Check the check_cv function\n",
    "#Cross Validation is perfromed on Training Set and NOT on Test Set\n",
    "lr = LinearRegression()\n",
    "\n",
    "check_cv(X_train, y_train, lr)\n",
    "#print(\"RMSE:- %.2f\\tR-Squared:- %.2f\" %(check_cv(X_train, y_train, lr)[0], check_cv(X_train, y_train, lr)[1]))"
   ]
  },
  {
   "cell_type": "code",
   "execution_count": 67,
   "metadata": {},
   "outputs": [],
   "source": [
    "from sklearn.model_selection import cross_val_score"
   ]
  },
  {
   "cell_type": "code",
   "execution_count": 62,
   "metadata": {
    "collapsed": true
   },
   "outputs": [
    {
     "name": "stdout",
     "output_type": "stream",
     "text": [
      "Help on function cross_val_score in module sklearn.model_selection._validation:\n",
      "\n",
      "cross_val_score(estimator, X, y=None, groups=None, scoring=None, cv=None, n_jobs=1, verbose=0, fit_params=None, pre_dispatch='2*n_jobs')\n",
      "    Evaluate a score by cross-validation\n",
      "    \n",
      "    Read more in the :ref:`User Guide <cross_validation>`.\n",
      "    \n",
      "    Parameters\n",
      "    ----------\n",
      "    estimator : estimator object implementing 'fit'\n",
      "        The object to use to fit the data.\n",
      "    \n",
      "    X : array-like\n",
      "        The data to fit. Can be for example a list, or an array.\n",
      "    \n",
      "    y : array-like, optional, default: None\n",
      "        The target variable to try to predict in the case of\n",
      "        supervised learning.\n",
      "    \n",
      "    groups : array-like, with shape (n_samples,), optional\n",
      "        Group labels for the samples used while splitting the dataset into\n",
      "        train/test set.\n",
      "    \n",
      "    scoring : string, callable or None, optional, default: None\n",
      "        A string (see model evaluation documentation) or\n",
      "        a scorer callable object / function with signature\n",
      "        ``scorer(estimator, X, y)``.\n",
      "    \n",
      "    cv : int, cross-validation generator or an iterable, optional\n",
      "        Determines the cross-validation splitting strategy.\n",
      "        Possible inputs for cv are:\n",
      "    \n",
      "        - None, to use the default 3-fold cross validation,\n",
      "        - integer, to specify the number of folds in a `(Stratified)KFold`,\n",
      "        - An object to be used as a cross-validation generator.\n",
      "        - An iterable yielding train, test splits.\n",
      "    \n",
      "        For integer/None inputs, if the estimator is a classifier and ``y`` is\n",
      "        either binary or multiclass, :class:`StratifiedKFold` is used. In all\n",
      "        other cases, :class:`KFold` is used.\n",
      "    \n",
      "        Refer :ref:`User Guide <cross_validation>` for the various\n",
      "        cross-validation strategies that can be used here.\n",
      "    \n",
      "    n_jobs : integer, optional\n",
      "        The number of CPUs to use to do the computation. -1 means\n",
      "        'all CPUs'.\n",
      "    \n",
      "    verbose : integer, optional\n",
      "        The verbosity level.\n",
      "    \n",
      "    fit_params : dict, optional\n",
      "        Parameters to pass to the fit method of the estimator.\n",
      "    \n",
      "    pre_dispatch : int, or string, optional\n",
      "        Controls the number of jobs that get dispatched during parallel\n",
      "        execution. Reducing this number can be useful to avoid an\n",
      "        explosion of memory consumption when more jobs get dispatched\n",
      "        than CPUs can process. This parameter can be:\n",
      "    \n",
      "            - None, in which case all the jobs are immediately\n",
      "              created and spawned. Use this for lightweight and\n",
      "              fast-running jobs, to avoid delays due to on-demand\n",
      "              spawning of the jobs\n",
      "    \n",
      "            - An int, giving the exact number of total jobs that are\n",
      "              spawned\n",
      "    \n",
      "            - A string, giving an expression as a function of n_jobs,\n",
      "              as in '2*n_jobs'\n",
      "    \n",
      "    Returns\n",
      "    -------\n",
      "    scores : array of float, shape=(len(list(cv)),)\n",
      "        Array of scores of the estimator for each run of the cross validation.\n",
      "    \n",
      "    Examples\n",
      "    --------\n",
      "    >>> from sklearn import datasets, linear_model\n",
      "    >>> from sklearn.model_selection import cross_val_score\n",
      "    >>> diabetes = datasets.load_diabetes()\n",
      "    >>> X = diabetes.data[:150]\n",
      "    >>> y = diabetes.target[:150]\n",
      "    >>> lasso = linear_model.Lasso()\n",
      "    >>> print(cross_val_score(lasso, X, y))  # doctest: +ELLIPSIS\n",
      "    [ 0.33150734  0.08022311  0.03531764]\n",
      "    \n",
      "    See Also\n",
      "    ---------\n",
      "    :func:`sklearn.model_selection.cross_validate`:\n",
      "        To run cross-validation on multiple metrics and also to return\n",
      "        train scores, fit times and score times.\n",
      "    \n",
      "    :func:`sklearn.metrics.make_scorer`:\n",
      "        Make a scorer from a performance metric or loss function.\n",
      "\n"
     ]
    }
   ],
   "source": [
    "help(cross_val_score)"
   ]
  },
  {
   "cell_type": "markdown",
   "metadata": {},
   "source": [
    "## Note:-\n",
    "Create directories named Ridge, Lasso, SVR, Random Forest and Simple Linear.\n",
    "The models and their respective results will be stored in these folders."
   ]
  },
  {
   "cell_type": "code",
   "execution_count": 78,
   "metadata": {},
   "outputs": [],
   "source": [
    "class Regression():\n",
    "    \n",
    "    base_path = os.getcwd() + \"/Models/\"\n",
    "    def __init__(self, X_train, X_test, y_train, y_test):\n",
    "        self.X_train = X_train\n",
    "        self.X_test = X_test\n",
    "        self.y_train = y_train\n",
    "        self.y_test = y_test\n",
    "    \n",
    "    #Check the cross validation accuracies of various regressors\n",
    "    def check_cv(self, regressor):\n",
    "        #Perform 7 fold(default=3) cross validation on training data\n",
    "        scores = cross_val_score(estimator= regressor, X=self.X_train, y=self.y_train, cv=7, n_jobs=1)\n",
    "        print(\"Scores:-{}\\n\" .format(scores))\n",
    "        print(\"Average Accuracy:- %.2f\" %(np.mean(scores)))\n",
    "    \n",
    "    def save_model_results(self, actual, predicted, regressor, regressor_type, train_test):\n",
    "        path = self.base_path + regressor_type \n",
    "        result_df = pd.DataFrame({\"Actual\":actual, \"Predicted\":predicted}, columns=[\"Actual\", \"Predicted\"])\n",
    "        result_df.to_csv(path + train_test + \"_result.csv\")\n",
    "        joblib.dump(regressor, path + \"/regression.pkl\")\n",
    "        \n",
    "    def evaluate(self, actual, predicted):\n",
    "        return(np.sqrt(mean_squared_error(actual, predicted)), r2_score(actual, predicted))\n",
    "    \n",
    "    def prediction_ridge(self):\n",
    "        regressor = Ridge()\n",
    "        regressor.fit(self.X_train, self.y_train)\n",
    "        predicted_train = regressor.predict(self.X_train)\n",
    "        predicted_test = regressor.predict(self.X_test)\n",
    "        self.save_model_results(self.y_train.ravel(), predicted_train, regressor, \"Ridge\", \"TRAIN\")\n",
    "        self.save_model_results(self.y_test.ravel(), predicted_test, regressor, \"Ridge\", \"TEST\")\n",
    "        \n",
    "        #Cross Validation Score\n",
    "        print(\"Cross Validation Score Ridge:-\\n\")\n",
    "        self.check_cv(regressor)\n",
    "        \n",
    "        #Training and Testing results are returned as a tuple\n",
    "        result_train = self.evaluate(self.y_train, predicted_train)\n",
    "        print(\"Train\\nRMSE:-{}\\tR-Squared:-{}\\n\" .format(result_train[0], result_train[1]))\n",
    "        result_test = self.evaluate(self.y_test, predicted_test)\n",
    "        print(\"Test\\nRMSE:-{}\\tR-Squared:-{}\\n\" .format(result_test[0], result_test[1]))\n",
    "        \n",
    "    def prediction_lasso(self):\n",
    "        regressor = Lasso()\n",
    "        regressor.fit(self.X_train, self.y_train)\n",
    "        predicted_train = regressor.predict(self.X_train)\n",
    "        predicted_test = regressor.predict(self.X_test)\n",
    "        self.save_model_results(self.y_train.ravel(), predicted_train, regressor, \"Lasso\", \"TRAIN\")\n",
    "        self.save_model_results(self.y_test.ravel(), predicted_test, regressor, \"Lasso\", \"TEST\")\n",
    "        \n",
    "        \n",
    "        #Cross Validation Score\n",
    "        print(\"Cross Validation Score Lasso:-\\n\")\n",
    "        self.check_cv(regressor)\n",
    "        \n",
    "        #Training and Testing results are returned as a tuple\n",
    "        result_train = self.evaluate(self.y_train, predicted_train)\n",
    "        print(\"Train\\nRMSE:-{}\\tR-Squared:-{}\\n\" .format(result_train[0], result_train[1]))\n",
    "        result_test = self.evaluate(self.y_test, predicted_test)\n",
    "        print(\"Test\\nRMSE:-{}\\tR-Squared:-{}\\n\" .format(result_test[0], result_test[1]))\n",
    "\n",
    "    \n",
    "    def prediction_SVR(self):\n",
    "        regressor = SVR()\n",
    "        regressor.fit(self.X_train, self.y_train)\n",
    "        predicted_train = regressor.predict(self.X_train)\n",
    "        predicted_test = regressor.predict(self.X_test)\n",
    "        self.save_model_results(self.y_train.ravel(), predicted_train, regressor, \"SVR\", \"TRAIN\")\n",
    "        self.save_model_results(self.y_test.ravel(), predicted_test, regressor, \"SVR\", \"TEST\")\n",
    "        \n",
    "        \n",
    "        #Cross Validation Score\n",
    "        print(\"Cross Validation Score Support Vector Regressor:-\\n\")\n",
    "        self.check_cv(regressor)\n",
    "        \n",
    "        #Training and Testing results are returned as a tuple\n",
    "        result_train = self.evaluate(self.y_train, predicted_train)\n",
    "        print(\"Train\\nRMSE:-{}\\tR-Squared:-{}\\n\" .format(result_train[0], result_train[1]))\n",
    "        result_test = self.evaluate(self.y_test, predicted_test)\n",
    "        print(\"Test\\nRMSE:-{}\\tR-Squared:-{}\\n\" .format(result_test[0], result_test[1]))\n",
    "    \n",
    "    def prediction_linear(self):\n",
    "        regressor = LinearRegression()\n",
    "        regressor.fit(self.X_train, self.y_train)\n",
    "        predicted_train = regressor.predict(self.X_train)\n",
    "        predicted_test = regressor.predict(self.X_test)\n",
    "        self.save_model_results(self.y_train.ravel(), predicted_train, regressor, \"Simple Linear\", \"TRAIN\")\n",
    "        self.save_model_results(self.y_test.ravel(), predicted_test, regressor, \"Simple Linear\", \"TEST\")\n",
    "        \n",
    "        \n",
    "        #Cross Validation Score\n",
    "        print(\"Cross Validation Score Simple Linear Regressor:-\\n\")\n",
    "        self.check_cv(regressor)\n",
    "        \n",
    "        #Training and Testing results are returned as a tuple\n",
    "        result_train = self.evaluate(self.y_train, predicted_train)\n",
    "        print(\"Train\\nRMSE:-{}\\tR-Squared:-{}\\n\" .format(result_train[0], result_train[1]))\n",
    "        result_test = self.evaluate(self.y_test, predicted_test)\n",
    "        print(\"Test\\nRMSE:-{}\\tR-Squared:-{}\\n\" .format(result_test[0], result_test[1]))\n",
    "    \n",
    "    def prediction_random_forest(self, n_tree=100):\n",
    "        \n",
    "        #Create a regressor Object with default 100 trees/ \n",
    "        regressor = RFR(n_estimators=n_tree)\n",
    "        regressor.fit(self.X_train, self.y_train)     \n",
    "        predicted_train = regressor.predict(self.X_train)\n",
    "        predicted_test = regressor.predict(self.X_test)\n",
    "        self.save_model_results(self.y_train.ravel(), predicted_train, regressor, \"Random Forest\", \"TRAIN\")\n",
    "        self.save_model_results(self.y_test.ravel(), predicted_test, regressor, \"Random Forest\", \"TEST\")\n",
    "        \n",
    "        \n",
    "        #Cross Validation Score\n",
    "        print(\"Cross Validation Score Random Forest Regressor:-\\n\")\n",
    "        self.check_cv(regressor)\n",
    "        \n",
    "        #Training and Testing results are returned as a tuple\n",
    "        result_train = self.evaluate(self.y_train, predicted_train)\n",
    "        print(\"Train\\nRMSE:-{}\\tR-Squared:-{}\\n\" .format(result_train[0], result_train[1]))\n",
    "        result_test = self.evaluate(self.y_test, predicted_test)\n",
    "        print(\"Test\\nRMSE:-{}\\tR-Squared:-{}\\n\" .format(result_test[0], result_test[1]))"
   ]
  },
  {
   "cell_type": "markdown",
   "metadata": {},
   "source": [
    "# Results for Definitely Split Data"
   ]
  },
  {
   "cell_type": "code",
   "execution_count": 79,
   "metadata": {},
   "outputs": [
    {
     "name": "stdout",
     "output_type": "stream",
     "text": [
      "X_train:- (592, 18)\tX_test:- (148, 18)\n",
      "y_train:- (592,)\ty_test:- (148,)\n"
     ]
    }
   ],
   "source": [
    "#Pass an argument \"True\" to the function\n",
    "X_train_def, X_test_def, y_train_def, y_test_def = split_data(X, y, True)\n",
    "print(\"X_train:- {}\\tX_test:- {}\\ny_train:- {}\\ty_test:- {}\" .format(X_train_def.shape, X_test_def.shape, y_train_def.shape, y_test_def.shape))"
   ]
  },
  {
   "cell_type": "markdown",
   "metadata": {},
   "source": [
    "## Ridge Regression"
   ]
  },
  {
   "cell_type": "code",
   "execution_count": 80,
   "metadata": {},
   "outputs": [],
   "source": [
    "#Create a regression object\n",
    "reg_def = Regression(X_train_def, X_test_def, y_train_def, y_test_def)\n"
   ]
  },
  {
   "cell_type": "code",
   "execution_count": 81,
   "metadata": {},
   "outputs": [
    {
     "name": "stdout",
     "output_type": "stream",
     "text": [
      "Cross Validation Score Ridge:-\n",
      "\n",
      "Scores:-[ 0.06996076 -0.24301398 -0.11344871  0.02974605 -0.13200626  0.1164474\n",
      "  0.10332875]\n",
      "\n",
      "Average Accuracy:- -0.02\n",
      "Train\n",
      "RMSE:-13.214749063230181\tR-Squared:-0.12135013250140336\n",
      "\n",
      "Test\n",
      "RMSE:-9.330285541108912\tR-Squared:--0.010141922706112583\n",
      "\n"
     ]
    }
   ],
   "source": [
    "reg_def.prediction_ridge()"
   ]
  },
  {
   "cell_type": "markdown",
   "metadata": {},
   "source": [
    "## Lasso Regression"
   ]
  },
  {
   "cell_type": "code",
   "execution_count": 82,
   "metadata": {
    "scrolled": false
   },
   "outputs": [
    {
     "name": "stdout",
     "output_type": "stream",
     "text": [
      "Cross Validation Score Lasso:-\n",
      "\n",
      "Scores:-[-0.11852122 -0.1574298   0.07153279  0.00096503 -0.12317795  0.07400131\n",
      "  0.04889165]\n",
      "\n",
      "Average Accuracy:- -0.03\n",
      "Train\n",
      "RMSE:-13.638699159168123\tR-Squared:-0.0640688404683093\n",
      "\n",
      "Test\n",
      "RMSE:-9.18063565638492\tR-Squared:-0.022001857086256238\n",
      "\n"
     ]
    }
   ],
   "source": [
    "reg_def.prediction_lasso()"
   ]
  },
  {
   "cell_type": "markdown",
   "metadata": {},
   "source": [
    "## SVR"
   ]
  },
  {
   "cell_type": "code",
   "execution_count": 83,
   "metadata": {
    "scrolled": false
   },
   "outputs": [
    {
     "name": "stdout",
     "output_type": "stream",
     "text": [
      "Cross Validation Score Support Vector Regressor:-\n",
      "\n",
      "Scores:-[-0.19820194 -0.09383207 -0.0332653  -0.05120589 -0.04027834 -0.02292629\n",
      " -0.06894541]\n",
      "\n",
      "Average Accuracy:- -0.07\n",
      "Train\n",
      "RMSE:-14.094305801769917\tR-Squared:-0.0004940433060997007\n",
      "\n",
      "Test\n",
      "RMSE:-9.545851370363913\tR-Squared:--0.05735752819013351\n",
      "\n"
     ]
    }
   ],
   "source": [
    "reg_def.prediction_SVR()"
   ]
  },
  {
   "cell_type": "markdown",
   "metadata": {},
   "source": [
    "## Linear"
   ]
  },
  {
   "cell_type": "code",
   "execution_count": 84,
   "metadata": {
    "scrolled": false
   },
   "outputs": [
    {
     "name": "stdout",
     "output_type": "stream",
     "text": [
      "Cross Validation Score Simple Linear Regressor:-\n",
      "\n",
      "Scores:-[ 0.07452169 -0.23583081 -0.12598486  0.03069765 -0.13605217  0.11688003\n",
      "  0.10286464]\n",
      "\n",
      "Average Accuracy:- -0.02\n",
      "Train\n",
      "RMSE:-13.214156603512933\tR-Squared:-0.12142891613630591\n",
      "\n",
      "Test\n",
      "RMSE:-9.332959982952502\tR-Squared:--0.0107211017684965\n",
      "\n"
     ]
    }
   ],
   "source": [
    "reg_def.prediction_linear()"
   ]
  },
  {
   "cell_type": "markdown",
   "metadata": {},
   "source": [
    "## Random Forest Regressor"
   ]
  },
  {
   "cell_type": "code",
   "execution_count": 85,
   "metadata": {},
   "outputs": [
    {
     "name": "stdout",
     "output_type": "stream",
     "text": [
      "Cross Validation Score Random Forest Regressor:-\n",
      "\n",
      "Scores:-[-0.5774654  -0.36617005 -0.37934922 -0.1340664  -0.3908796   0.09133712\n",
      " -0.10322218]\n",
      "\n",
      "Average Accuracy:- -0.27\n",
      "Train\n",
      "RMSE:-6.996608716937653\tR-Squared:-0.7536950271935778\n",
      "\n",
      "Test\n",
      "RMSE:-11.802825564578294\tR-Squared:--0.6164582902643647\n",
      "\n"
     ]
    }
   ],
   "source": [
    "#200 trees for Random Forest\n",
    "reg_def.prediction_random_forest(200)"
   ]
  },
  {
   "cell_type": "markdown",
   "metadata": {},
   "source": [
    "# Results for Randomly Split Data"
   ]
  },
  {
   "cell_type": "markdown",
   "metadata": {},
   "source": [
    "## Ridge Regression"
   ]
  },
  {
   "cell_type": "code",
   "execution_count": 86,
   "metadata": {},
   "outputs": [],
   "source": [
    "#Create a regression object\n",
    "reg = Regression(X_train, X_test, y_train, y_test)\n"
   ]
  },
  {
   "cell_type": "code",
   "execution_count": 87,
   "metadata": {},
   "outputs": [
    {
     "name": "stdout",
     "output_type": "stream",
     "text": [
      "Cross Validation Score Ridge:-\n",
      "\n",
      "Scores:-[ 0.11010545 -0.0071523   0.09740729  0.06763995  0.00620251  0.10280799\n",
      " -0.11539057]\n",
      "\n",
      "Average Accuracy:- 0.04\n",
      "Train\n",
      "RMSE:-13.095629417871375\tR-Squared:-0.11271689147569974\n",
      "\n",
      "Test\n",
      "RMSE:-9.88416026599644\tR-Squared:-0.09993499363582425\n",
      "\n"
     ]
    }
   ],
   "source": [
    "reg.prediction_ridge()"
   ]
  },
  {
   "cell_type": "markdown",
   "metadata": {},
   "source": [
    "## Lasso Regression"
   ]
  },
  {
   "cell_type": "code",
   "execution_count": 88,
   "metadata": {},
   "outputs": [
    {
     "name": "stdout",
     "output_type": "stream",
     "text": [
      "Cross Validation Score Lasso:-\n",
      "\n",
      "Scores:-[ 0.06797426 -0.0268233   0.06744121  0.0528175  -0.12672776  0.04750403\n",
      "  0.01056757]\n",
      "\n",
      "Average Accuracy:- 0.01\n",
      "Train\n",
      "RMSE:-13.427419337747365\tR-Squared:-0.0671870549160738\n",
      "\n",
      "Test\n",
      "RMSE:-10.502111765996455\tR-Squared:--0.016126064490930903\n",
      "\n"
     ]
    }
   ],
   "source": [
    "reg.prediction_lasso()"
   ]
  },
  {
   "cell_type": "markdown",
   "metadata": {},
   "source": [
    "## SVR"
   ]
  },
  {
   "cell_type": "code",
   "execution_count": 89,
   "metadata": {},
   "outputs": [
    {
     "name": "stdout",
     "output_type": "stream",
     "text": [
      "Cross Validation Score Support Vector Regressor:-\n",
      "\n",
      "Scores:-[-0.03606462 -0.05236169 -0.07413423 -0.04118044 -0.07068727 -0.05606803\n",
      " -0.06531728]\n",
      "\n",
      "Average Accuracy:- -0.06\n",
      "Train\n",
      "RMSE:-13.912408913204592\tR-Squared:--0.0014150823149519098\n",
      "\n",
      "Test\n",
      "RMSE:-10.650135464198485\tR-Squared:--0.04497183102086577\n",
      "\n"
     ]
    }
   ],
   "source": [
    "reg.prediction_SVR()"
   ]
  },
  {
   "cell_type": "markdown",
   "metadata": {},
   "source": [
    "## Linear"
   ]
  },
  {
   "cell_type": "code",
   "execution_count": 90,
   "metadata": {},
   "outputs": [
    {
     "name": "stdout",
     "output_type": "stream",
     "text": [
      "Cross Validation Score Simple Linear Regressor:-\n",
      "\n",
      "Scores:-[ 0.11224614 -0.00982443  0.09849869  0.06656508  0.01120429  0.1056465\n",
      " -0.12816056]\n",
      "\n",
      "Average Accuracy:- 0.04\n",
      "Train\n",
      "RMSE:-13.095021129524904\tR-Squared:-0.11279931766885176\n",
      "\n",
      "Test\n",
      "RMSE:-9.874071889429075\tR-Squared:-0.1017713784322899\n",
      "\n"
     ]
    }
   ],
   "source": [
    "reg.prediction_linear()"
   ]
  },
  {
   "cell_type": "markdown",
   "metadata": {},
   "source": [
    "## Random Forest Regressor"
   ]
  },
  {
   "cell_type": "code",
   "execution_count": 91,
   "metadata": {},
   "outputs": [
    {
     "name": "stdout",
     "output_type": "stream",
     "text": [
      "Cross Validation Score Random Forest Regressor:-\n",
      "\n",
      "Scores:-[-0.16919994  0.10781022  0.26515943  0.15840907 -0.26435626  0.02663881\n",
      " -0.38577949]\n",
      "\n",
      "Average Accuracy:- -0.04\n",
      "Train\n",
      "RMSE:-6.115096834467463\tR-Squared:-0.8065288837614482\n",
      "\n",
      "Test\n",
      "RMSE:-12.653194881871293\tR-Squared:--0.4750091481264169\n",
      "\n"
     ]
    }
   ],
   "source": [
    "#Default 100 trees\n",
    "reg.prediction_random_forest(200)"
   ]
  },
  {
   "cell_type": "code",
   "execution_count": 83,
   "metadata": {},
   "outputs": [],
   "source": []
  },
  {
   "cell_type": "code",
   "execution_count": 84,
   "metadata": {},
   "outputs": [
    {
     "name": "stdout",
     "output_type": "stream",
     "text": [
      "Help on class KFold in module sklearn.model_selection._split:\n",
      "\n",
      "class KFold(_BaseKFold)\n",
      " |  K-Folds cross-validator\n",
      " |  \n",
      " |  Provides train/test indices to split data in train/test sets. Split\n",
      " |  dataset into k consecutive folds (without shuffling by default).\n",
      " |  \n",
      " |  Each fold is then used once as a validation while the k - 1 remaining\n",
      " |  folds form the training set.\n",
      " |  \n",
      " |  Read more in the :ref:`User Guide <cross_validation>`.\n",
      " |  \n",
      " |  Parameters\n",
      " |  ----------\n",
      " |  n_splits : int, default=3\n",
      " |      Number of folds. Must be at least 2.\n",
      " |  \n",
      " |  shuffle : boolean, optional\n",
      " |      Whether to shuffle the data before splitting into batches.\n",
      " |  \n",
      " |  random_state : int, RandomState instance or None, optional, default=None\n",
      " |      If int, random_state is the seed used by the random number generator;\n",
      " |      If RandomState instance, random_state is the random number generator;\n",
      " |      If None, the random number generator is the RandomState instance used\n",
      " |      by `np.random`. Used when ``shuffle`` == True.\n",
      " |  \n",
      " |  Examples\n",
      " |  --------\n",
      " |  >>> from sklearn.model_selection import KFold\n",
      " |  >>> X = np.array([[1, 2], [3, 4], [1, 2], [3, 4]])\n",
      " |  >>> y = np.array([1, 2, 3, 4])\n",
      " |  >>> kf = KFold(n_splits=2)\n",
      " |  >>> kf.get_n_splits(X)\n",
      " |  2\n",
      " |  >>> print(kf)  # doctest: +NORMALIZE_WHITESPACE\n",
      " |  KFold(n_splits=2, random_state=None, shuffle=False)\n",
      " |  >>> for train_index, test_index in kf.split(X):\n",
      " |  ...    print(\"TRAIN:\", train_index, \"TEST:\", test_index)\n",
      " |  ...    X_train, X_test = X[train_index], X[test_index]\n",
      " |  ...    y_train, y_test = y[train_index], y[test_index]\n",
      " |  TRAIN: [2 3] TEST: [0 1]\n",
      " |  TRAIN: [0 1] TEST: [2 3]\n",
      " |  \n",
      " |  Notes\n",
      " |  -----\n",
      " |  The first ``n_samples % n_splits`` folds have size\n",
      " |  ``n_samples // n_splits + 1``, other folds have size\n",
      " |  ``n_samples // n_splits``, where ``n_samples`` is the number of samples.\n",
      " |  \n",
      " |  See also\n",
      " |  --------\n",
      " |  StratifiedKFold\n",
      " |      Takes group information into account to avoid building folds with\n",
      " |      imbalanced class distributions (for binary or multiclass\n",
      " |      classification tasks).\n",
      " |  \n",
      " |  GroupKFold: K-fold iterator variant with non-overlapping groups.\n",
      " |  \n",
      " |  RepeatedKFold: Repeats K-Fold n times.\n",
      " |  \n",
      " |  Method resolution order:\n",
      " |      KFold\n",
      " |      _BaseKFold\n",
      " |      abc.NewBase\n",
      " |      BaseCrossValidator\n",
      " |      abc.NewBase\n",
      " |      builtins.object\n",
      " |  \n",
      " |  Methods defined here:\n",
      " |  \n",
      " |  __init__(self, n_splits=3, shuffle=False, random_state=None)\n",
      " |      Initialize self.  See help(type(self)) for accurate signature.\n",
      " |  \n",
      " |  ----------------------------------------------------------------------\n",
      " |  Data and other attributes defined here:\n",
      " |  \n",
      " |  __abstractmethods__ = frozenset()\n",
      " |  \n",
      " |  ----------------------------------------------------------------------\n",
      " |  Methods inherited from _BaseKFold:\n",
      " |  \n",
      " |  get_n_splits(self, X=None, y=None, groups=None)\n",
      " |      Returns the number of splitting iterations in the cross-validator\n",
      " |      \n",
      " |      Parameters\n",
      " |      ----------\n",
      " |      X : object\n",
      " |          Always ignored, exists for compatibility.\n",
      " |      \n",
      " |      y : object\n",
      " |          Always ignored, exists for compatibility.\n",
      " |      \n",
      " |      groups : object\n",
      " |          Always ignored, exists for compatibility.\n",
      " |      \n",
      " |      Returns\n",
      " |      -------\n",
      " |      n_splits : int\n",
      " |          Returns the number of splitting iterations in the cross-validator.\n",
      " |  \n",
      " |  split(self, X, y=None, groups=None)\n",
      " |      Generate indices to split data into training and test set.\n",
      " |      \n",
      " |      Parameters\n",
      " |      ----------\n",
      " |      X : array-like, shape (n_samples, n_features)\n",
      " |          Training data, where n_samples is the number of samples\n",
      " |          and n_features is the number of features.\n",
      " |      \n",
      " |      y : array-like, shape (n_samples,)\n",
      " |          The target variable for supervised learning problems.\n",
      " |      \n",
      " |      groups : array-like, with shape (n_samples,), optional\n",
      " |          Group labels for the samples used while splitting the dataset into\n",
      " |          train/test set.\n",
      " |      \n",
      " |      Returns\n",
      " |      -------\n",
      " |      train : ndarray\n",
      " |          The training set indices for that split.\n",
      " |      \n",
      " |      test : ndarray\n",
      " |          The testing set indices for that split.\n",
      " |      \n",
      " |      Notes\n",
      " |      -----\n",
      " |      Randomized CV splitters may return different results for each call of\n",
      " |      split. You can make the results identical by setting ``random_state``\n",
      " |      to an integer.\n",
      " |  \n",
      " |  ----------------------------------------------------------------------\n",
      " |  Methods inherited from BaseCrossValidator:\n",
      " |  \n",
      " |  __repr__(self)\n",
      " |      Return repr(self).\n",
      " |  \n",
      " |  ----------------------------------------------------------------------\n",
      " |  Data descriptors inherited from abc.NewBase:\n",
      " |  \n",
      " |  __dict__\n",
      " |      dictionary for instance variables (if defined)\n",
      " |  \n",
      " |  __weakref__\n",
      " |      list of weak references to the object (if defined)\n",
      "\n"
     ]
    }
   ],
   "source": [
    "help(KFold)"
   ]
  },
  {
   "cell_type": "code",
   "execution_count": 72,
   "metadata": {},
   "outputs": [],
   "source": [
    "from sklearn.model_selection import KFold\n",
    "class RandomForest():\n",
    "    \n",
    "    base_path = os.getcwd()\n",
    "    def __init__(self, X_train, X_test, y_train, y_test):\n",
    "        self.X_train = X_train\n",
    "        self.X_test = X_test\n",
    "        self.y_train = y_train\n",
    "        self.y_test = y_test\n",
    "    \n",
    "    def save_results(self, actual, predicted, path):\n",
    "        #Create a data frame\n",
    "        result_df = pd.DataFrame({\"Actual\": actual, \"Predicted\": predicted}, columns=[\"Actual\", \"Predicted\"])\n",
    "        \n",
    "        #Write the result to a file\n",
    "        result_df.to_csv(path)\n",
    "    \n",
    "    def kfold_cv(self, model, k=10):\n",
    "        \n",
    "        #K-Fold validation is performed on training data\n",
    "        kf = KFold(n_splits=k)\n",
    "        scores = []\n",
    "        for train_index, test_index in kf.split(self.X_train):\n",
    "            X_train, X_test = self.X_train.iloc[train_index, :], self.X_test.iloc[test_index, :]\n",
    "            y_train, y_test = self.y_train[train_index], self.y_test[test_index]\n",
    "            \n",
    "            print(\"Train Index:-\" + str(train_index))\n",
    "            print(\"Test Index:-\" + str(test_index))\n",
    "            '''\n",
    "            #Fit the model on training set\n",
    "            rfr_model = model.fit(X_train, y_train)\n",
    "            \n",
    "            #Evaluate on validation set\n",
    "            y_pred = rfr_model.predict()\n",
    "            score = rfr_model.score(y_pred, y_test)\n",
    "            scores.append(score)\n",
    "        \n",
    "        #Return the mean accuracy of all the folds\n",
    "        return sum(scores)/len(scores)\n",
    "        '''\n",
    "    def evaluate(self, actual, predicted, train_test):\n",
    "               \n",
    "        path = self.base_path + train_test + \"_random_forest.csv\"\n",
    "        self.save_results(actual, predicted, path)\n",
    "        \n",
    "        return (np.sqrt(mean_squared_error(actual, predicted)), r2_score(actual, predicted))\n",
    "    \n",
    "    def prediction(self, n_tree=100):\n",
    "        \n",
    "        #Create a regressor Object with default 100 trees/ \n",
    "        forest = RFR(n_estimators=n_tree)\n",
    "        self.kfold_cv(forest)\n",
    "        \n",
    "        #Fit the model on the training data and save the model\n",
    "        rfr_model = forest.fit(self.X_train, self.y_train)\n",
    "        joblib.dump(rfr_model, self.base_path + \"Randomforest.pkl\")\n",
    "        \n",
    "        #Predict and Evaluate on the training set\n",
    "        pred_train = rfr_model.predict(self.X_train)\n",
    "        result = self.evaluate(self.y_train.ravel(), pred_train, \"TRAIN\")\n",
    "        print(\"Train\\nRMSE:- %.2f\\tR-Squared:- %.2f\\n\" %(result[0], result[1]))\n",
    "        \n",
    "        #Predict and Evaluate on the testing set\n",
    "        pred_test = rfr_model.predict(self.X_test)\n",
    "        result = self.evaluate(self.y_test.ravel(), pred_test, \"TEST\")\n",
    "        print(\"Test\\nRMSE:- %.2f\\tR-Squared:- %.2f\\n\" %(result[0], result[1]))\n",
    "        \n",
    "        #Predict and Evaluate on the Validation set\n",
    "        #pred_val = rfr_model.predict(X_val)\n",
    "        #result = self.evaluate(y_val.ravel(), pred_val)\n",
    "        #print(\"Train\\nRMSE:- %.2f\\tR-Squared:- %.2f\\n\" %(result[0], result[1]))"
   ]
  },
  {
   "cell_type": "code",
   "execution_count": null,
   "metadata": {},
   "outputs": [],
   "source": []
  },
  {
   "cell_type": "code",
   "execution_count": null,
   "metadata": {},
   "outputs": [],
   "source": [
    "from sklearn.model_selection import RepeatedKFold\n",
    "rkf = RepeatedKFold(n_splits=5, n_repeats=10, random_state=None)\n",
    "# X is the feature set and y is the target\n",
    "for train_index, test_index in rkf.split(X):\n",
    "    print(\"Train:\", train_index, \"Validation:\", val_index)\n",
    "    X_train, X_test = X[train_index], X[val_index]\n",
    "    y_train, y_test = y[train_index], y[val_index]"
   ]
  },
  {
   "cell_type": "code",
   "execution_count": 47,
   "metadata": {},
   "outputs": [
    {
     "ename": "NameError",
     "evalue": "name 'RepeatedKFold' is not defined",
     "output_type": "error",
     "traceback": [
      "\u001b[0;31m---------------------------------------------------------------------------\u001b[0m",
      "\u001b[0;31mNameError\u001b[0m                                 Traceback (most recent call last)",
      "\u001b[0;32m<ipython-input-47-716b774fc038>\u001b[0m in \u001b[0;36m<module>\u001b[0;34m()\u001b[0m\n\u001b[1;32m      2\u001b[0m \u001b[0;32mfrom\u001b[0m \u001b[0msklearn\u001b[0m\u001b[0;34m.\u001b[0m\u001b[0mmodel_selection\u001b[0m \u001b[0;32mimport\u001b[0m \u001b[0mKFold\u001b[0m\u001b[0;34m\u001b[0m\u001b[0m\n\u001b[1;32m      3\u001b[0m \u001b[0;34m\u001b[0m\u001b[0m\n\u001b[0;32m----> 4\u001b[0;31m \u001b[0mkfold\u001b[0m \u001b[0;34m=\u001b[0m \u001b[0mRepeatedKFold\u001b[0m\u001b[0;34m(\u001b[0m\u001b[0mn_splits\u001b[0m\u001b[0;34m=\u001b[0m\u001b[0;36m5\u001b[0m\u001b[0;34m,\u001b[0m \u001b[0mn_repeats\u001b[0m\u001b[0;34m=\u001b[0m\u001b[0;36m10\u001b[0m\u001b[0;34m,\u001b[0m \u001b[0mrandom_state\u001b[0m\u001b[0;34m=\u001b[0m\u001b[0;32mNone\u001b[0m\u001b[0;34m)\u001b[0m\u001b[0;34m\u001b[0m\u001b[0m\n\u001b[0m",
      "\u001b[0;31mNameError\u001b[0m: name 'RepeatedKFold' is not defined"
     ]
    }
   ],
   "source": [
    "#K-Fold Cross Validation\n",
    "from sklearn.model_selection import KFold\n",
    "\n",
    "kfold = RepeatedKFold(n_splits=5, n_repeats=10, random_state=None)"
   ]
  },
  {
   "cell_type": "code",
   "execution_count": 73,
   "metadata": {},
   "outputs": [],
   "source": [
    "#Create an object of Random Forest class\n",
    "rf = RandomForest(X_train, X_test, y_train, y_test)"
   ]
  },
  {
   "cell_type": "code",
   "execution_count": 74,
   "metadata": {},
   "outputs": [
    {
     "name": "stdout",
     "output_type": "stream",
     "text": [
      "Train Index:-[ 52  53  54  55  56  57  58  59  60  61  62  63  64  65  66  67  68  69\n",
      "  70  71  72  73  74  75  76  77  78  79  80  81  82  83  84  85  86  87\n",
      "  88  89  90  91  92  93  94  95  96  97  98  99 100 101 102 103 104 105\n",
      " 106 107 108 109 110 111 112 113 114 115 116 117 118 119 120 121 122 123\n",
      " 124 125 126 127 128 129 130 131 132 133 134 135 136 137 138 139 140 141\n",
      " 142 143 144 145 146 147 148 149 150 151 152 153 154 155 156 157 158 159\n",
      " 160 161 162 163 164 165 166 167 168 169 170 171 172 173 174 175 176 177\n",
      " 178 179 180 181 182 183 184 185 186 187 188 189 190 191 192 193 194 195\n",
      " 196 197 198 199 200 201 202 203 204 205 206 207 208 209 210 211 212 213\n",
      " 214 215 216 217 218 219 220 221 222 223 224 225 226 227 228 229 230 231\n",
      " 232 233 234 235 236 237 238 239 240 241 242 243 244 245 246 247 248 249\n",
      " 250 251 252 253 254 255 256 257 258 259 260 261 262 263 264 265 266 267\n",
      " 268 269 270 271 272 273 274 275 276 277 278 279 280 281 282 283 284 285\n",
      " 286 287 288 289 290 291 292 293 294 295 296 297 298 299 300 301 302 303\n",
      " 304 305 306 307 308 309 310 311 312 313 314 315 316 317 318 319 320 321\n",
      " 322 323 324 325 326 327 328 329 330 331 332 333 334 335 336 337 338 339\n",
      " 340 341 342 343 344 345 346 347 348 349 350 351 352 353 354 355 356 357\n",
      " 358 359 360 361 362 363 364 365 366 367 368 369 370 371 372 373 374 375\n",
      " 376 377 378 379 380 381 382 383 384 385 386 387 388 389 390 391 392 393\n",
      " 394 395 396 397 398 399 400 401 402 403 404 405 406 407 408 409 410 411\n",
      " 412 413 414 415 416 417 418 419 420 421 422 423 424 425 426 427 428 429\n",
      " 430 431 432 433 434 435 436 437 438 439 440 441 442 443 444 445 446 447\n",
      " 448 449 450 451 452 453 454 455 456 457 458 459 460 461 462 463 464 465\n",
      " 466 467 468 469 470 471 472 473 474 475 476 477 478 479 480 481 482 483\n",
      " 484 485 486 487 488 489 490 491 492 493 494 495 496 497 498 499 500 501\n",
      " 502 503 504 505 506 507 508 509 510 511]\n",
      "Test Index:-[ 0  1  2  3  4  5  6  7  8  9 10 11 12 13 14 15 16 17 18 19 20 21 22 23\n",
      " 24 25 26 27 28 29 30 31 32 33 34 35 36 37 38 39 40 41 42 43 44 45 46 47\n",
      " 48 49 50 51]\n",
      "Train Index:-[  0   1   2   3   4   5   6   7   8   9  10  11  12  13  14  15  16  17\n",
      "  18  19  20  21  22  23  24  25  26  27  28  29  30  31  32  33  34  35\n",
      "  36  37  38  39  40  41  42  43  44  45  46  47  48  49  50  51 104 105\n",
      " 106 107 108 109 110 111 112 113 114 115 116 117 118 119 120 121 122 123\n",
      " 124 125 126 127 128 129 130 131 132 133 134 135 136 137 138 139 140 141\n",
      " 142 143 144 145 146 147 148 149 150 151 152 153 154 155 156 157 158 159\n",
      " 160 161 162 163 164 165 166 167 168 169 170 171 172 173 174 175 176 177\n",
      " 178 179 180 181 182 183 184 185 186 187 188 189 190 191 192 193 194 195\n",
      " 196 197 198 199 200 201 202 203 204 205 206 207 208 209 210 211 212 213\n",
      " 214 215 216 217 218 219 220 221 222 223 224 225 226 227 228 229 230 231\n",
      " 232 233 234 235 236 237 238 239 240 241 242 243 244 245 246 247 248 249\n",
      " 250 251 252 253 254 255 256 257 258 259 260 261 262 263 264 265 266 267\n",
      " 268 269 270 271 272 273 274 275 276 277 278 279 280 281 282 283 284 285\n",
      " 286 287 288 289 290 291 292 293 294 295 296 297 298 299 300 301 302 303\n",
      " 304 305 306 307 308 309 310 311 312 313 314 315 316 317 318 319 320 321\n",
      " 322 323 324 325 326 327 328 329 330 331 332 333 334 335 336 337 338 339\n",
      " 340 341 342 343 344 345 346 347 348 349 350 351 352 353 354 355 356 357\n",
      " 358 359 360 361 362 363 364 365 366 367 368 369 370 371 372 373 374 375\n",
      " 376 377 378 379 380 381 382 383 384 385 386 387 388 389 390 391 392 393\n",
      " 394 395 396 397 398 399 400 401 402 403 404 405 406 407 408 409 410 411\n",
      " 412 413 414 415 416 417 418 419 420 421 422 423 424 425 426 427 428 429\n",
      " 430 431 432 433 434 435 436 437 438 439 440 441 442 443 444 445 446 447\n",
      " 448 449 450 451 452 453 454 455 456 457 458 459 460 461 462 463 464 465\n",
      " 466 467 468 469 470 471 472 473 474 475 476 477 478 479 480 481 482 483\n",
      " 484 485 486 487 488 489 490 491 492 493 494 495 496 497 498 499 500 501\n",
      " 502 503 504 505 506 507 508 509 510 511]\n",
      "Test Index:-[ 52  53  54  55  56  57  58  59  60  61  62  63  64  65  66  67  68  69\n",
      "  70  71  72  73  74  75  76  77  78  79  80  81  82  83  84  85  86  87\n",
      "  88  89  90  91  92  93  94  95  96  97  98  99 100 101 102 103]\n"
     ]
    },
    {
     "name": "stderr",
     "output_type": "stream",
     "text": [
      "/home/shrikrishna/anaconda3/lib/python3.6/site-packages/pandas/core/series.py:841: FutureWarning: \n",
      "Passing list-likes to .loc or [] with any missing label will raise\n",
      "KeyError in the future, you can use .reindex() as an alternative.\n",
      "\n",
      "See the documentation here:\n",
      "https://pandas.pydata.org/pandas-docs/stable/indexing.html#deprecate-loc-reindex-listlike\n",
      "  return self.loc[key]\n"
     ]
    },
    {
     "ename": "IndexError",
     "evalue": "positional indexers are out-of-bounds",
     "output_type": "error",
     "traceback": [
      "\u001b[0;31m---------------------------------------------------------------------------\u001b[0m",
      "\u001b[0;31mIndexError\u001b[0m                                Traceback (most recent call last)",
      "\u001b[0;32m<ipython-input-74-e1b1a16a1d38>\u001b[0m in \u001b[0;36m<module>\u001b[0;34m()\u001b[0m\n\u001b[1;32m      1\u001b[0m \u001b[0;31m#Predict on test train and validation sets with default 100 trees\u001b[0m\u001b[0;34m\u001b[0m\u001b[0;34m\u001b[0m\u001b[0m\n\u001b[0;32m----> 2\u001b[0;31m \u001b[0mrf\u001b[0m\u001b[0;34m.\u001b[0m\u001b[0mprediction\u001b[0m\u001b[0;34m(\u001b[0m\u001b[0;36m500\u001b[0m\u001b[0;34m)\u001b[0m\u001b[0;34m\u001b[0m\u001b[0m\n\u001b[0m",
      "\u001b[0;32m<ipython-input-72-88f42615dad4>\u001b[0m in \u001b[0;36mprediction\u001b[0;34m(self, n_tree)\u001b[0m\n\u001b[1;32m     50\u001b[0m         \u001b[0;31m#Create a regressor Object with default 100 trees/\u001b[0m\u001b[0;34m\u001b[0m\u001b[0;34m\u001b[0m\u001b[0m\n\u001b[1;32m     51\u001b[0m         \u001b[0mforest\u001b[0m \u001b[0;34m=\u001b[0m \u001b[0mRFR\u001b[0m\u001b[0;34m(\u001b[0m\u001b[0mn_estimators\u001b[0m\u001b[0;34m=\u001b[0m\u001b[0mn_tree\u001b[0m\u001b[0;34m)\u001b[0m\u001b[0;34m\u001b[0m\u001b[0m\n\u001b[0;32m---> 52\u001b[0;31m         \u001b[0mself\u001b[0m\u001b[0;34m.\u001b[0m\u001b[0mkfold_cv\u001b[0m\u001b[0;34m(\u001b[0m\u001b[0mforest\u001b[0m\u001b[0;34m)\u001b[0m\u001b[0;34m\u001b[0m\u001b[0m\n\u001b[0m\u001b[1;32m     53\u001b[0m \u001b[0;34m\u001b[0m\u001b[0m\n\u001b[1;32m     54\u001b[0m         \u001b[0;31m#Fit the model on the training data and save the model\u001b[0m\u001b[0;34m\u001b[0m\u001b[0;34m\u001b[0m\u001b[0m\n",
      "\u001b[0;32m<ipython-input-72-88f42615dad4>\u001b[0m in \u001b[0;36mkfold_cv\u001b[0;34m(self, model, k)\u001b[0m\n\u001b[1;32m     22\u001b[0m         \u001b[0mscores\u001b[0m \u001b[0;34m=\u001b[0m \u001b[0;34m[\u001b[0m\u001b[0;34m]\u001b[0m\u001b[0;34m\u001b[0m\u001b[0m\n\u001b[1;32m     23\u001b[0m         \u001b[0;32mfor\u001b[0m \u001b[0mtrain_index\u001b[0m\u001b[0;34m,\u001b[0m \u001b[0mtest_index\u001b[0m \u001b[0;32min\u001b[0m \u001b[0mkf\u001b[0m\u001b[0;34m.\u001b[0m\u001b[0msplit\u001b[0m\u001b[0;34m(\u001b[0m\u001b[0mself\u001b[0m\u001b[0;34m.\u001b[0m\u001b[0mX_train\u001b[0m\u001b[0;34m)\u001b[0m\u001b[0;34m:\u001b[0m\u001b[0;34m\u001b[0m\u001b[0m\n\u001b[0;32m---> 24\u001b[0;31m             \u001b[0mX_train\u001b[0m\u001b[0;34m,\u001b[0m \u001b[0mX_test\u001b[0m \u001b[0;34m=\u001b[0m \u001b[0mself\u001b[0m\u001b[0;34m.\u001b[0m\u001b[0mX_train\u001b[0m\u001b[0;34m.\u001b[0m\u001b[0miloc\u001b[0m\u001b[0;34m[\u001b[0m\u001b[0mtrain_index\u001b[0m\u001b[0;34m,\u001b[0m \u001b[0;34m:\u001b[0m\u001b[0;34m]\u001b[0m\u001b[0;34m,\u001b[0m \u001b[0mself\u001b[0m\u001b[0;34m.\u001b[0m\u001b[0mX_test\u001b[0m\u001b[0;34m.\u001b[0m\u001b[0miloc\u001b[0m\u001b[0;34m[\u001b[0m\u001b[0mtest_index\u001b[0m\u001b[0;34m,\u001b[0m \u001b[0;34m:\u001b[0m\u001b[0;34m]\u001b[0m\u001b[0;34m\u001b[0m\u001b[0m\n\u001b[0m\u001b[1;32m     25\u001b[0m             \u001b[0my_train\u001b[0m\u001b[0;34m,\u001b[0m \u001b[0my_test\u001b[0m \u001b[0;34m=\u001b[0m \u001b[0mself\u001b[0m\u001b[0;34m.\u001b[0m\u001b[0my_train\u001b[0m\u001b[0;34m[\u001b[0m\u001b[0mtrain_index\u001b[0m\u001b[0;34m]\u001b[0m\u001b[0;34m,\u001b[0m \u001b[0mself\u001b[0m\u001b[0;34m.\u001b[0m\u001b[0my_test\u001b[0m\u001b[0;34m[\u001b[0m\u001b[0mtest_index\u001b[0m\u001b[0;34m]\u001b[0m\u001b[0;34m\u001b[0m\u001b[0m\n\u001b[1;32m     26\u001b[0m \u001b[0;34m\u001b[0m\u001b[0m\n",
      "\u001b[0;32m~/anaconda3/lib/python3.6/site-packages/pandas/core/indexing.py\u001b[0m in \u001b[0;36m__getitem__\u001b[0;34m(self, key)\u001b[0m\n\u001b[1;32m   1470\u001b[0m             \u001b[0;32mexcept\u001b[0m \u001b[0;34m(\u001b[0m\u001b[0mKeyError\u001b[0m\u001b[0;34m,\u001b[0m \u001b[0mIndexError\u001b[0m\u001b[0;34m)\u001b[0m\u001b[0;34m:\u001b[0m\u001b[0;34m\u001b[0m\u001b[0m\n\u001b[1;32m   1471\u001b[0m                 \u001b[0;32mpass\u001b[0m\u001b[0;34m\u001b[0m\u001b[0m\n\u001b[0;32m-> 1472\u001b[0;31m             \u001b[0;32mreturn\u001b[0m \u001b[0mself\u001b[0m\u001b[0;34m.\u001b[0m\u001b[0m_getitem_tuple\u001b[0m\u001b[0;34m(\u001b[0m\u001b[0mkey\u001b[0m\u001b[0;34m)\u001b[0m\u001b[0;34m\u001b[0m\u001b[0m\n\u001b[0m\u001b[1;32m   1473\u001b[0m         \u001b[0;32melse\u001b[0m\u001b[0;34m:\u001b[0m\u001b[0;34m\u001b[0m\u001b[0m\n\u001b[1;32m   1474\u001b[0m             \u001b[0;31m# we by definition only have the 0th axis\u001b[0m\u001b[0;34m\u001b[0m\u001b[0;34m\u001b[0m\u001b[0m\n",
      "\u001b[0;32m~/anaconda3/lib/python3.6/site-packages/pandas/core/indexing.py\u001b[0m in \u001b[0;36m_getitem_tuple\u001b[0;34m(self, tup)\u001b[0m\n\u001b[1;32m   2011\u001b[0m     \u001b[0;32mdef\u001b[0m \u001b[0m_getitem_tuple\u001b[0m\u001b[0;34m(\u001b[0m\u001b[0mself\u001b[0m\u001b[0;34m,\u001b[0m \u001b[0mtup\u001b[0m\u001b[0;34m)\u001b[0m\u001b[0;34m:\u001b[0m\u001b[0;34m\u001b[0m\u001b[0m\n\u001b[1;32m   2012\u001b[0m \u001b[0;34m\u001b[0m\u001b[0m\n\u001b[0;32m-> 2013\u001b[0;31m         \u001b[0mself\u001b[0m\u001b[0;34m.\u001b[0m\u001b[0m_has_valid_tuple\u001b[0m\u001b[0;34m(\u001b[0m\u001b[0mtup\u001b[0m\u001b[0;34m)\u001b[0m\u001b[0;34m\u001b[0m\u001b[0m\n\u001b[0m\u001b[1;32m   2014\u001b[0m         \u001b[0;32mtry\u001b[0m\u001b[0;34m:\u001b[0m\u001b[0;34m\u001b[0m\u001b[0m\n\u001b[1;32m   2015\u001b[0m             \u001b[0;32mreturn\u001b[0m \u001b[0mself\u001b[0m\u001b[0;34m.\u001b[0m\u001b[0m_getitem_lowerdim\u001b[0m\u001b[0;34m(\u001b[0m\u001b[0mtup\u001b[0m\u001b[0;34m)\u001b[0m\u001b[0;34m\u001b[0m\u001b[0m\n",
      "\u001b[0;32m~/anaconda3/lib/python3.6/site-packages/pandas/core/indexing.py\u001b[0m in \u001b[0;36m_has_valid_tuple\u001b[0;34m(self, key)\u001b[0m\n\u001b[1;32m    220\u001b[0m                 \u001b[0;32mraise\u001b[0m \u001b[0mIndexingError\u001b[0m\u001b[0;34m(\u001b[0m\u001b[0;34m'Too many indexers'\u001b[0m\u001b[0;34m)\u001b[0m\u001b[0;34m\u001b[0m\u001b[0m\n\u001b[1;32m    221\u001b[0m             \u001b[0;32mtry\u001b[0m\u001b[0;34m:\u001b[0m\u001b[0;34m\u001b[0m\u001b[0m\n\u001b[0;32m--> 222\u001b[0;31m                 \u001b[0mself\u001b[0m\u001b[0;34m.\u001b[0m\u001b[0m_validate_key\u001b[0m\u001b[0;34m(\u001b[0m\u001b[0mk\u001b[0m\u001b[0;34m,\u001b[0m \u001b[0mi\u001b[0m\u001b[0;34m)\u001b[0m\u001b[0;34m\u001b[0m\u001b[0m\n\u001b[0m\u001b[1;32m    223\u001b[0m             \u001b[0;32mexcept\u001b[0m \u001b[0mValueError\u001b[0m\u001b[0;34m:\u001b[0m\u001b[0;34m\u001b[0m\u001b[0m\n\u001b[1;32m    224\u001b[0m                 raise ValueError(\"Location based indexing can only have \"\n",
      "\u001b[0;32m~/anaconda3/lib/python3.6/site-packages/pandas/core/indexing.py\u001b[0m in \u001b[0;36m_validate_key\u001b[0;34m(self, key, axis)\u001b[0m\n\u001b[1;32m   1966\u001b[0m \u001b[0;34m\u001b[0m\u001b[0m\n\u001b[1;32m   1967\u001b[0m             \u001b[0;32mif\u001b[0m \u001b[0mlen\u001b[0m\u001b[0;34m(\u001b[0m\u001b[0marr\u001b[0m\u001b[0;34m)\u001b[0m \u001b[0;32mand\u001b[0m \u001b[0;34m(\u001b[0m\u001b[0marr\u001b[0m\u001b[0;34m.\u001b[0m\u001b[0mmax\u001b[0m\u001b[0;34m(\u001b[0m\u001b[0;34m)\u001b[0m \u001b[0;34m>=\u001b[0m \u001b[0ml\u001b[0m \u001b[0;32mor\u001b[0m \u001b[0marr\u001b[0m\u001b[0;34m.\u001b[0m\u001b[0mmin\u001b[0m\u001b[0;34m(\u001b[0m\u001b[0;34m)\u001b[0m \u001b[0;34m<\u001b[0m \u001b[0;34m-\u001b[0m\u001b[0ml\u001b[0m\u001b[0;34m)\u001b[0m\u001b[0;34m:\u001b[0m\u001b[0;34m\u001b[0m\u001b[0m\n\u001b[0;32m-> 1968\u001b[0;31m                 \u001b[0;32mraise\u001b[0m \u001b[0mIndexError\u001b[0m\u001b[0;34m(\u001b[0m\u001b[0;34m\"positional indexers are out-of-bounds\"\u001b[0m\u001b[0;34m)\u001b[0m\u001b[0;34m\u001b[0m\u001b[0m\n\u001b[0m\u001b[1;32m   1969\u001b[0m         \u001b[0;32melse\u001b[0m\u001b[0;34m:\u001b[0m\u001b[0;34m\u001b[0m\u001b[0m\n\u001b[1;32m   1970\u001b[0m             raise ValueError(\"Can only index by location with \"\n",
      "\u001b[0;31mIndexError\u001b[0m: positional indexers are out-of-bounds"
     ]
    }
   ],
   "source": [
    "#Predict on test train and validation sets with default 100 trees\n",
    "rf.prediction(500)"
   ]
  },
  {
   "cell_type": "raw",
   "metadata": {},
   "source": [
    "---------------------200 TREES------------------------\n",
    "Train\n",
    "RMSE:- 6.77\tR-Squared:- 0.79\n",
    "\n",
    "Train\n",
    "RMSE:- 10.32\tR-Squared:- -0.53\n"
   ]
  },
  {
   "cell_type": "raw",
   "metadata": {},
   "source": [
    "---------------------100 TREES------------------------\n",
    "\n",
    "Train\n",
    "RMSE:- 6.64\tR-Squared:- 0.80\n",
    "\n",
    "Train\n",
    "RMSE:- 10.44\tR-Squared:- -0.57\n"
   ]
  },
  {
   "cell_type": "code",
   "execution_count": null,
   "metadata": {},
   "outputs": [],
   "source": []
  }
 ],
 "metadata": {
  "kernelspec": {
   "display_name": "Python 3",
   "language": "python",
   "name": "python3"
  },
  "language_info": {
   "codemirror_mode": {
    "name": "ipython",
    "version": 3
   },
   "file_extension": ".py",
   "mimetype": "text/x-python",
   "name": "python",
   "nbconvert_exporter": "python",
   "pygments_lexer": "ipython3",
   "version": "3.6.5"
  }
 },
 "nbformat": 4,
 "nbformat_minor": 2
}
